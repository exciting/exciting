{
 "cells": [
  {
   "cell_type": "markdown",
   "metadata": {
    "collapsed": true,
    "pycharm": {
     "name": "#%% md\n"
    }
   },
   "source": [
    "# How to Start an exciting Calculation\n",
    "**by <span style=\"color:darkgreen\">Andris Gulans</span>, <span style=\"color:darkgreen\">Jürgen Spitaler</span>, & <span style=\"color:darkgreen\">Pasquale Pavone</span>; for [<span style=\"color:darkgoldenrod\">exciting *oxygen*</span>](http://exciting.wikidot.com/oxygen)**\n",
    "<hr style=\"border:2px solid #DDD\"> </hr>"
   ]
  },
  {
   "cell_type": "markdown",
   "metadata": {
    "pycharm": {
     "name": "#%% md\n"
    }
   },
   "source": [
    "**<span style=\"color:firebrick\">Purpose</span>**: In this tutorial you will learn how to make the first steps with **exciting**. In addition, we give here a description of the output files produced by an **exciting** calculation.\n",
    "<hr style=\"border:2px solid #DDD\"> </hr>"
   ]
  },
  {
   "cell_type": "markdown",
   "metadata": {
    "pycharm": {
     "name": "#%% md\n"
    }
   },
   "source": [
    "<div class=\"alert alert-block alert-warning\">\n",
    "\n",
    "**Table of Contents**\n",
    "\n",
    "[0. Before Starting](#Before)  \n",
    "[1. Preparing Input](#PrepInput)  \n",
    "[2. Running exciting](#RunExciting)       \n",
    "[3. Reading INFO.OUT - The Main Output File](#INFOOUT)  \n",
    "[4. Output Files of an exciting Calculation](#Outputs)  \n",
    "\n",
    "</div>\n"
   ]
  },
  {
   "cell_type": "markdown",
   "metadata": {},
   "source": [
    "<a id=\"Before\"></a>"
   ]
  },
  {
   "cell_type": "markdown",
   "metadata": {},
   "source": [
    "<hr style=\"border:1px solid #DDD\"> </hr>\n",
    "\n",
    "### <span style=\"color:#15317E\">0. Before Starting</span>\n",
    "\n",
    "Before running any Jupyter tutorials, please refer to the **`00_before_starting.md`** document on how to correctly set up the environment. This only needs to be done once. After which, the **venv** can be (re)activated from **exciting**'s root directory:\n",
    "\n",
    "<div style=\"background-color: rgb(224, 224, 224);\">\n",
    "\n",
    "```bash\n",
    "source tools/excitingjupyter/venv/excitingvenv/bin/activate\n",
    "```\n",
    "\n",
    "</div>\n",
    "\n",
    "</div>"
   ]
  },
  {
   "cell_type": "code",
   "execution_count": 1,
   "metadata": {},
   "outputs": [
    {
     "name": "stdout",
     "output_type": "stream",
     "text": [
      "wd in get_exciting_root: /Users/alexanderbuccheri/exciting/tools/excitingjupyter/excitingjupyter/01_getting_started\n"
     ]
    },
    {
     "ename": "AssertionError",
     "evalue": "Exciting binary 'exciting_smp' was not found at exciting root path: /Users/alexanderbuccheri/exciting",
     "output_type": "error",
     "traceback": [
      "\u001B[0;31m---------------------------------------------------------------------------\u001B[0m",
      "\u001B[0;31mAssertionError\u001B[0m                            Traceback (most recent call last)",
      "\u001B[0;32m/var/folders/j6/1rklfj550k70srfh3x1l2p5c0000gp/T/ipykernel_48472/1496006615.py\u001B[0m in \u001B[0;36m<module>\u001B[0;34m\u001B[0m\n\u001B[1;32m      2\u001B[0m \u001B[0;32mfrom\u001B[0m \u001B[0mexcitingjupyter\u001B[0m\u001B[0;34m.\u001B[0m\u001B[0mutilities\u001B[0m \u001B[0;32mimport\u001B[0m \u001B[0mget_exciting_root\u001B[0m\u001B[0;34m\u001B[0m\u001B[0;34m\u001B[0m\u001B[0m\n\u001B[1;32m      3\u001B[0m \u001B[0;34m\u001B[0m\u001B[0m\n\u001B[0;32m----> 4\u001B[0;31m \u001B[0mexciting_root\u001B[0m \u001B[0;34m=\u001B[0m \u001B[0mget_exciting_root\u001B[0m\u001B[0;34m(\u001B[0m\u001B[0;34m)\u001B[0m\u001B[0;34m\u001B[0m\u001B[0;34m\u001B[0m\u001B[0m\n\u001B[0m\u001B[1;32m      5\u001B[0m \u001B[0mexciting_species\u001B[0m \u001B[0;34m=\u001B[0m \u001B[0mos\u001B[0m\u001B[0;34m.\u001B[0m\u001B[0mpath\u001B[0m\u001B[0;34m.\u001B[0m\u001B[0mjoin\u001B[0m\u001B[0;34m(\u001B[0m\u001B[0mexciting_root\u001B[0m\u001B[0;34m,\u001B[0m \u001B[0;34m\"species\"\u001B[0m\u001B[0;34m)\u001B[0m\u001B[0;34m\u001B[0m\u001B[0;34m\u001B[0m\u001B[0m\n\u001B[1;32m      6\u001B[0m \u001B[0mprint\u001B[0m\u001B[0;34m(\u001B[0m\u001B[0mexciting_root\u001B[0m\u001B[0;34m)\u001B[0m\u001B[0;34m\u001B[0m\u001B[0;34m\u001B[0m\u001B[0m\n",
      "\u001B[0;32m~/exciting/tools/excitingjupyter/venv/excitingvenv/lib/python3.7/site-packages/excitingjupyter/utilities.py\u001B[0m in \u001B[0;36mget_exciting_root\u001B[0;34m()\u001B[0m\n\u001B[1;32m     17\u001B[0m         \u001B[0mexcitingroot\u001B[0m \u001B[0;34m=\u001B[0m \u001B[0mos\u001B[0m\u001B[0;34m.\u001B[0m\u001B[0menviron\u001B[0m\u001B[0;34m[\u001B[0m\u001B[0;34m'EXCITINGROOT'\u001B[0m\u001B[0;34m]\u001B[0m\u001B[0;34m\u001B[0m\u001B[0;34m\u001B[0m\u001B[0m\n\u001B[1;32m     18\u001B[0m     \u001B[0;32massert\u001B[0m \u001B[0;34m\"exciting_smp\"\u001B[0m \u001B[0;32min\u001B[0m \u001B[0mos\u001B[0m\u001B[0;34m.\u001B[0m\u001B[0mlistdir\u001B[0m\u001B[0;34m(\u001B[0m\u001B[0mos\u001B[0m\u001B[0;34m.\u001B[0m\u001B[0mpath\u001B[0m\u001B[0;34m.\u001B[0m\u001B[0mjoin\u001B[0m\u001B[0;34m(\u001B[0m\u001B[0mexcitingroot\u001B[0m\u001B[0;34m,\u001B[0m\u001B[0;34m\"bin\"\u001B[0m\u001B[0;34m)\u001B[0m\u001B[0;34m)\u001B[0m\u001B[0;34m,\u001B[0m\u001B[0;31m \u001B[0m\u001B[0;31m\\\u001B[0m\u001B[0;34m\u001B[0m\u001B[0;34m\u001B[0m\u001B[0m\n\u001B[0;32m---> 19\u001B[0;31m         \u001B[0;34mf\"Exciting binary 'exciting_smp' was not found at exciting root path: {excitingroot}\"\u001B[0m\u001B[0;34m\u001B[0m\u001B[0;34m\u001B[0m\u001B[0m\n\u001B[0m\u001B[1;32m     20\u001B[0m     \u001B[0;32mreturn\u001B[0m \u001B[0mexcitingroot\u001B[0m\u001B[0;34m\u001B[0m\u001B[0;34m\u001B[0m\u001B[0m\n\u001B[1;32m     21\u001B[0m \u001B[0;34m\u001B[0m\u001B[0m\n",
      "\u001B[0;31mAssertionError\u001B[0m: Exciting binary 'exciting_smp' was not found at exciting root path: /Users/alexanderbuccheri/exciting"
     ]
    }
   ],
   "source": [
    "import os\n",
    "from excitingjupyter.utilities import get_exciting_root, check_for_binary\n",
    "\n",
    "exciting_root = get_exciting_root()\n",
    "check_for_binary(exciting_root)\n",
    "exciting_species = os.path.join(exciting_root, \"species\")\n",
    "print(exciting_root)"
   ]
  },
  {
   "cell_type": "markdown",
   "metadata": {},
   "source": [
    "<a id=\"PrepInput\"></a>"
   ]
  },
  {
   "cell_type": "markdown",
   "metadata": {
    "pycharm": {
     "name": "#%% md\n"
    }
   },
   "source": [
    "<hr style=\"border:1px solid #DDD\"> </hr>\n",
    "\n",
    "### <span style=\"color:#15317E\">1. Preparing Input</span>\n",
    "\n",
    "**<span style=\"color:#15317E\">i) Diamond</span>**\n",
    "\n",
    "<div style=\"text-align: justify\">\n",
    "\n",
    "For the very first **exciting** run, you will use an already prepared example of an input file that sets up a total-energy calculation of diamond. Input files for **exciting** are written in the **XML** format and are typically named **input.xml**. The **XML** format allows your data to be written in a structured way. Figuratively speaking, an **exciting** input is pretty much like an article with its sections and subsections. In case of **XML** data, sections and subsections are called <code><span style=\"color:green\">elements</span></code>.\n",
    "\n",
    "\n",
    "```xml\n",
    "<input>\n",
    "\n",
    "   <title>Diamond</title>\n",
    "\n",
    "   <structure speciespath=\"/home/tutorial/exciting/species\">\n",
    "\n",
    "      <crystal scale=\"6.7274\">\n",
    "         <basevect>0.0   0.5   0.5</basevect>\n",
    "         <basevect>0.5   0.0   0.5</basevect>\n",
    "         <basevect>0.5   0.5   0.0</basevect>\n",
    "      </crystal>\n",
    "\n",
    "      <species speciesfile=\"C.xml\">\n",
    "         <atom coord=\"0.00 0.00 0.00\"/>\n",
    "         <atom coord=\"0.25 0.25 0.25\"/>\n",
    "      </species>\n",
    "\n",
    "   </structure>\n",
    "\n",
    "   <groundstate\n",
    "      ngridk=\"4 4 4\"\n",
    "      outputlevel=\"normal\"\n",
    "      xctype=\"GGA_PBE_SOL\">\n",
    "   </groundstate>\n",
    "\n",
    "</input>\n",
    "\n",
    "```\n",
    "\n",
    "Let us examine this example bit-by-bit. The first thing to be said is that an **XML** is **<span style=\"color:firebrick\">not sensitive</span>** to line indentation. However, for the sake of clarity, line indentation is used in all examples of these Tutorials to illustrate the hierarchy among elements. Now, let's come back to the **input.xml** shown above. The first and the last line indicate the beginning and the end of the input.\n",
    "\n",
    "```xml\n",
    "<input>\n",
    "...\n",
    "</input>\n",
    "```\n",
    "\n",
    "The element <code><span style=\"color:green\">title</span></code> contains some freely chosen text simply to describe the calculation.\n",
    "```xml\n",
    "<title>Diamond</title>\n",
    "```\n",
    "\n",
    "The next element, <code><span style=\"color:green\">structure</span></code>, describes the geometry and the chemical composition of a studied system. Notice that the declaration of the <code><span style=\"color:green\">structure</span></code> section contains as additional information the parameter <code><span style=\"color:mediumblue\">speciespath</span></code>.\n",
    "\n",
    "```xml\n",
    "<structure speciespath=\"/home/tutorials/exciting/species/\">\n",
    "```\n",
    "\n",
    "Such parameters in the XML language are called <code><span style=\"color:mediumblue\">attributes</span></code>, and their values are always given in quotes regardless whether it is numerical, symbolic, or boolean information. In particular, the attribute <code><span style=\"color:mediumblue\">speciespath</span></code> defines the location, where the files with the data about chemical elements are stored. In the example above, the <code><span style=\"color:mediumblue\">speciespath</span></code> **<span style=\"color:firebrick\">must be changed</span>** explicitly by either inserting the path for the attribute <code><span style=\"color:mediumblue\">speciespath</span></code> by hand in the input file.\n",
    "\n",
    "**<span style=\"color:firebrick\">Remark on the species files directory</span>** in **exciting**: Starting with the release of **<span style=\"color:darkgoldenrod\">exciting boron</span>**, **<span style=\"color:firebrick\">it is not possible</span>** to define the attribute <code><span style=\"color:mediumblue\">speciespath</span></code> (i.e., the directory containing the species files) by linking directly to the **exciting**-code site.\n",
    "\n",
    "The element <code><span style=\"color:green\">structure</span></code> contains subelements <code><span style=\"color:green\">crystal</span></code> and <code><span style=\"color:green\">species</span></code>. The element <code><span style=\"color:green\">crystal</span></code> is used for defining the Bravais lattice of the studied system. It contains three lattice vectors (each specified by an element <code><span style=\"color:green\">basevect</span></code>) in units of the attribute <code><span style=\"color:mediumblue\">scale</span></code> that **<span style=\"color:firebrick\">is given in Bohr</span>**. The element <code><span style=\"color:green\">species</span></code> describes the chemical composition of the studied system. Atomic coordinates are specified by the element <code><span style=\"color:green\">atom</span></code>. The primitive unit cell of diamond contains two carbon atoms, and their positions are given in the basis of the lattice vectors (**lattice coordinates**).\n",
    "\n",
    "```xml\n",
    "   <structure ...>\n",
    "\n",
    "      <crystal scale=\"6.7274\">\n",
    "         <basevect>0.0   0.5   0.5</basevect>\n",
    "         <basevect>0.5   0.0   0.5</basevect>\n",
    "         <basevect>0.5   0.5   0.0</basevect>\n",
    "      </crystal>\n",
    "\n",
    "      <species speciesfile=\"C.xml\">\n",
    "         <atom coord=\"0.00 0.00 0.00\" />\n",
    "         <atom coord=\"0.25 0.25 0.25\" />\n",
    "      </species>\n",
    "\n",
    "   </structure>\n",
    "```\n",
    "The next element, <code><span style=\"color:green\">groundstate</span></code>, contains attributes that define computational parameters. In particular, in calculations of periodic systems it is necessary to define how the Brillouin zone is sampled. It is done using the attribute <code><span style=\"color:mediumblue\">ngridk</span></code>. The calculation of some quantities, such as the electron density and the total energy, requires an integration over the Brillouin zone. In practice, the integration is replaced with a sum over equally-spaced points. The number of divisions of the Brillouin zone along each of the three directions of the primitive vectors of the reciprocal lattice is exactly what is specified in the attribute <code><span style=\"color:mediumblue\">ngridk</span></code>.\n",
    "\n",
    "\n",
    "```xml\n",
    "   <groundstate\n",
    "      ngridk=\"4 4 4\"\n",
    "      outputlevel=\"normal\"\n",
    "      xctype=\"GGA_PBE_SOL\">\n",
    "   </groundstate>\n",
    "```\n",
    "\n",
    "The attribute <code><span style=\"color:mediumblue\">outputlevel</span></code> of the <code><span style=\"color:green\">groundstate</span></code> element specifies the amount of information which is printed to output files. The attribute <code><span style=\"color:mediumblue\">xctype</span></code> specifies the type of exchange-correlation functional to be used.\n",
    "\n",
    "\n",
    "The next step is writing the complete input as a string and saving it  as **input.xml**. While for storage or archiving purposes you may choose any name for the input file, running the **exciting** code requires that specifically the file **input.xml** is present.\n",
    "\n",
    "</div>\n",
    "\n"
   ]
  },
  {
   "cell_type": "code",
   "execution_count": null,
   "metadata": {},
   "outputs": [],
   "source": [
    "%%bash\n",
    "#create a directory to run exciting if it does not exist yet\n",
    "run_folder=\"run_tutorial1\"\n",
    "if ! [ -d  $run_folder ]; then mkdir $run_folder; fi"
   ]
  },
  {
   "cell_type": "code",
   "execution_count": null,
   "metadata": {},
   "outputs": [],
   "source": [
    "input_str = f\"\"\"\n",
    "<input>\n",
    "\n",
    "   <title>Diamond</title>\n",
    "\n",
    "   <structure speciespath=\"{exciting_species}\">\n",
    "\n",
    "      <crystal scale=\"6.7274\">\n",
    "            <basevect>0.0   0.5   0.5</basevect>\n",
    "            <basevect>0.5   0.0   0.5</basevect>\n",
    "            <basevect>0.5   0.5   0.0</basevect>\n",
    "      </crystal>\n",
    "\n",
    "      <species speciesfile=\"C.xml\">\n",
    "         <atom coord=\"0.00 0.00 0.00\"/>\n",
    "         <atom coord=\"0.25 0.25 0.25\"/>\n",
    "      </species>\n",
    "\n",
    "   </structure>\n",
    "\n",
    "   <groundstate\n",
    "      ngridk=\"4 4 4\"\n",
    "      outputlevel=\"normal\"\n",
    "      xctype=\"GGA_PBE_SOL\">\n",
    "   </groundstate>\n",
    "\n",
    "</input>\n",
    "\n",
    "\"\"\"\n",
    "\n",
    "# Write out the input as an XML file:\n",
    "with open(os.path.join(os.getcwd(), 'run_tutorial1/input.xml'), \"w\") as fid:\n",
    "    fid.write(input_str)"
   ]
  },
  {
   "cell_type": "markdown",
   "metadata": {},
   "source": [
    "**<span style=\"color:#15317E\">ii) Visualization of Structures</span>**\n",
    "\n",
    "You are ready to start a calculation, but it makes sense to visualize the structure defined in the input before running the code. This can be done with the help of the visualization module of the Atomic Simulation Environment (**ASE**).\n",
    "\n",
    "Note, visualisation requires tkinter needs to be installed. Instructions are provided [here](https://tkdocs.com/tutorial/install.html) if your OS is missing it."
   ]
  },
  {
   "cell_type": "code",
   "execution_count": null,
   "metadata": {},
   "outputs": [],
   "source": [
    "from ase.visualize import view\n",
    "from ase.io import read\n",
    "\n",
    "# Read in the input file we just created\n",
    "atoms = read(\"./run_tutorial1/input.xml\")\n",
    "view(atoms, viewer=\"nglview\")"
   ]
  },
  {
   "cell_type": "markdown",
   "metadata": {},
   "source": [
    "<a id=\"RunExciting\"></a>"
   ]
  },
  {
   "cell_type": "markdown",
   "metadata": {
    "pycharm": {
     "name": "#%% md\n"
    }
   },
   "source": [
    "<hr style=\"border:1px solid #DDD\"> </hr>\n",
    "\n",
    "### <span style=\"color:#15317E\">2. Running Exciting</span>\n",
    "\n",
    "\n",
    "In order to run **exciting** from the terminal, you simply need to execute the **exciting_smp** binary in the running directory. After a few seconds, the calculation should be finished.\n",
    "    \n",
    "<div style=\"background-color: rgb(224, 224, 224);\">\n",
    "    \n",
    "```bash\n",
    "time exciting_smp\n",
    "```\n",
    "</div>  \n",
    "    \n",
    "Here we used the **time** command before **exciting_smp** in order to get, at the end of the run, the elapsed time explicitly written on the screen.\n"
   ]
  },
  {
   "cell_type": "code",
   "execution_count": null,
   "metadata": {},
   "outputs": [],
   "source": [
    "%%bash\n",
    "# move into the run directory\n",
    "cd run_tutorial1; \n",
    "# load the necessary modules\n",
    "module load intel;\n",
    "# run exciting\n",
    "time $EXCITINGROOT/bin/exciting_smp input.xml;\n",
    "# move back to parent directory \n",
    "cd ..;"
   ]
  },
  {
   "cell_type": "markdown",
   "metadata": {},
   "source": [
    "<a id=\"INFOOUT\"></a>"
   ]
  },
  {
   "cell_type": "markdown",
   "metadata": {
    "pycharm": {
     "name": "#%% md\n"
    }
   },
   "source": [
    "<hr style=\"border:1px solid #DDD\"> </hr>\n",
    "\n",
    "### <span style=\"color:#15317E\">3. Reading INFO.OUT, the Main Output File</span>\n",
    "\n",
    "<div style=\"text-align: justify\">\n",
    "<br>\n",
    "    \n",
    "The execution of **exciting** will produce a number of output files. More details about these files will be given in the next section. Here, we will focus on the **<span style=\"color:firebrick\">main output file</span>**, named **INFO.OUT**. It contains basic information about the calculation. Below, this file is discussed for the diamond example and for the default value (**\"normal\"**) of the attribute <code><span style=\"color:mediumblue\">outputlevel</span></code> of the <code><span style=\"color:green\">groundstate</span></code> element.\n",
    "\n",
    " - The output file starts with a self-explanatory header."
   ]
  },
  {
   "cell_type": "code",
   "execution_count": null,
   "metadata": {
    "scrolled": true
   },
   "outputs": [],
   "source": [
    "!head -n 11 run_tutorial1/INFO.OUT "
   ]
  },
  {
   "cell_type": "markdown",
   "metadata": {
    "pycharm": {
     "name": "#%% md\n"
    }
   },
   "source": [
    "- The next lines give information on the initial density and tell us that the initialization has started."
   ]
  },
  {
   "cell_type": "code",
   "execution_count": null,
   "metadata": {},
   "outputs": [],
   "source": [
    "!head -n 20 run_tutorial1/INFO.OUT | tail -n 9"
   ]
  },
  {
   "cell_type": "markdown",
   "metadata": {
    "pycharm": {
     "name": "#%% md\n"
    }
   },
   "source": [
    "- The next section contains lattice parameters and derived quantities."
   ]
  },
  {
   "cell_type": "code",
   "execution_count": null,
   "metadata": {},
   "outputs": [],
   "source": [
    "!head -n 33 run_tutorial1/INFO.OUT | tail -n 14"
   ]
  },
  {
   "cell_type": "markdown",
   "metadata": {
    "pycharm": {
     "name": "#%% md\n"
    }
   },
   "source": [
    "- The further bit contains the information about the chemical composition of the crystal."
   ]
  },
  {
   "cell_type": "code",
   "execution_count": null,
   "metadata": {},
   "outputs": [],
   "source": [
    "!head -n 48 run_tutorial1/INFO.OUT | tail -n 15"
   ]
  },
  {
   "cell_type": "markdown",
   "metadata": {
    "pycharm": {
     "name": "#%% md\n"
    }
   },
   "source": [
    "- The next section tells whether the calculation is a spin-polarized one."
   ]
  },
  {
   "cell_type": "code",
   "execution_count": null,
   "metadata": {},
   "outputs": [],
   "source": [
    "!head -n 49 run_tutorial1/INFO.OUT | tail -n 1"
   ]
  },
  {
   "cell_type": "markdown",
   "metadata": {
    "pycharm": {
     "name": "#%% md\n"
    }
   },
   "source": [
    "- The **exciting** code recognizes crystal symmetries automatically and reports what has been found."
   ]
  },
  {
   "cell_type": "code",
   "execution_count": null,
   "metadata": {},
   "outputs": [],
   "source": [
    "!head -n 56 run_tutorial1/INFO.OUT | tail -n 6"
   ]
  },
  {
   "cell_type": "markdown",
   "metadata": {
    "pycharm": {
     "name": "#%% md\n"
    }
   },
   "source": [
    "- The basis set related information is printed in the next section. Note that **exciting** uses different basis sets for the Kohn-Sham orbitals and the effective potential."
   ]
  },
  {
   "cell_type": "code",
   "execution_count": null,
   "metadata": {},
   "outputs": [],
   "source": [
    "!head -n 70 run_tutorial1/INFO.OUT | tail -n 13"
   ]
  },
  {
   "cell_type": "markdown",
   "metadata": {
    "pycharm": {
     "name": "#%% md\n"
    }
   },
   "source": [
    "- Further computational details are printed below. The type of the exchange-correlation functional used in the calculation is among them."
   ]
  },
  {
   "cell_type": "code",
   "execution_count": null,
   "metadata": {},
   "outputs": [],
   "source": [
    "!head -n 92 run_tutorial1/INFO.OUT | tail -n 22"
   ]
  },
  {
   "cell_type": "markdown",
   "metadata": {
    "pycharm": {
     "name": "#%% md\n"
    }
   },
   "source": [
    "- Further, intermediate results are printed after each iteration of the **SCF** (self-consistent field) loop."
   ]
  },
  {
   "cell_type": "code",
   "execution_count": null,
   "metadata": {},
   "outputs": [],
   "source": [
    "!head -n 137 run_tutorial1/INFO.OUT | tail -n 30"
   ]
  },
  {
   "cell_type": "markdown",
   "metadata": {
    "pycharm": {
     "name": "#%% md\n"
    }
   },
   "source": [
    "- Actual values of the quantities which are relevant for self-consistency are displayed at each iteration (after the first one) and compared with convergence targets (shown in parentheses). If all self-consistency criteria are matched (values are smaller then targets) for the last 2 iterations the calculation has successfully ended."
   ]
  },
  {
   "cell_type": "code",
   "execution_count": null,
   "metadata": {},
   "outputs": [],
   "source": [
    "!head -n 170 run_tutorial1/INFO.OUT | tail -n 3"
   ]
  },
  {
   "cell_type": "markdown",
   "metadata": {
    "pycharm": {
     "name": "#%% md\n"
    }
   },
   "source": [
    "- The final answer is reported at the last iteration."
   ]
  },
  {
   "cell_type": "code",
   "execution_count": null,
   "metadata": {},
   "outputs": [],
   "source": [
    "!tail -n 43 run_tutorial1/INFO.OUT | head -n 30"
   ]
  },
  {
   "cell_type": "markdown",
   "metadata": {
    "pycharm": {
     "name": "#%% md\n"
    }
   },
   "source": [
    "- The final lines of **INFO.OUT** tell how the execution has stopped and report the total time spent in the run."
   ]
  },
  {
   "cell_type": "code",
   "execution_count": null,
   "metadata": {},
   "outputs": [],
   "source": [
    "!tail -n 8 run_tutorial1/INFO.OUT"
   ]
  },
  {
   "cell_type": "markdown",
   "metadata": {},
   "source": [
    "All of the main output files can by parsed by Python. In the example below, the results of the last iteration of the self-consistent field loop are saved in the dictionary <code>converged_results</code>:"
   ]
  },
  {
   "cell_type": "code",
   "execution_count": null,
   "metadata": {},
   "outputs": [],
   "source": [
    "from excitingtools import parser_chooser\n",
    "\n",
    "results = parser_chooser(\"./run_tutorial1/INFO.OUT\")\n",
    "max_scf = max([int(i) for i in results['scl'].keys()])\n",
    "assert max_scf <= 13, \"Expect max 13 SCF iterations to converge\"\n",
    "converged_results = results['scl'][str(max_scf)]"
   ]
  },
  {
   "cell_type": "code",
   "execution_count": null,
   "metadata": {},
   "outputs": [],
   "source": [
    "from assertions_01 import test_tutorial1\n",
    "test_tutorial1(converged_results)"
   ]
  },
  {
   "cell_type": "markdown",
   "metadata": {},
   "source": [
    "<a id=\"Outputs\"></a>"
   ]
  },
  {
   "cell_type": "markdown",
   "metadata": {
    "pycharm": {
     "name": "#%% md\n"
    }
   },
   "source": [
    "<hr style=\"border:1px solid #DDD\"> </hr>\n",
    "\n",
    "### <span style=\"color:#15317E\">4. Output Files of an exciting Calculation</span>\n",
    "\n",
    "\n",
    "- The main output file in **exciting** is **INFO.OUT**. A detailed description of the content of this file can be found in the previous section.\n",
    "\n",
    "filename|description\n",
    ":-----------|:--------------------------------\n",
    "**INFO.OUT**| Master output file containing the essential information on the material    system, parameters of the calculation, results (total energy, energy contributions, charge contributions, atomic forces, Fermi energy…) of each iteration, and more. The amount of information contained in this file can be triggered using the attribute <code><span style=\"color:mediumblue\">outputlevel</span></code> of the <code><span style=\"color:green\">groundstate</span></code> element.\n",
    "\n",
    "&nbsp;\n",
    "\n",
    "- Other relevant files which are updated or extended at each iteration contain information about the **SCF** calculation:\n",
    "\n",
    "filename|description\n",
    ":-----------|:--------------------------------\n",
    "**TOTENERGY.OUT**| Total energy in [Ha]; each line corresponds to one **SCF** iteration.\n",
    "**EFERMI.OUT**| Fermi energy in [Ha] at the last **SCF** iteration.\n",
    "**RMSDVEFF.OUT**| Root-mean-square deviation of the effective potential; each line corresponds to one **SCF** iteration, starting from the 2nd iteration and not considering the last **SCF** iteration.\n",
    "**DFSCFMAX.OUT**| Maximum variation of the non IBS part of the atomic forces; each line corresponds to one **SCF** iteration, starting from the 2nd iteration and not considering the last **SCF** iteration. Only written if forces are explicitly calculated (e.g., for atomic relaxation).\n",
    "**EIGVAL.OUT**| Eigenvalues (energies) of the valence bands, for each **k**-point and band.\n",
    "**EVALCORE.OUT**| Energy eigenvalues (energy levels) of the core states.\n",
    "**LINENGY.OUT**| Linearization energies as fixed in the species files (if <code><span style=\"color:mediumblue\">searchE</span></code> = **\"false\"** for the corresponding linearization energy in the **\"species\".xml** file) or determined by exciting (if <code><span style=\"color:mediumblue\">searchE</span></code> = **\"true\"** for the corresponding linearization energy in the **\"species\".xml** file).\n",
    "\n",
    "&nbsp;\n",
    "\n",
    "- Output files containing structural information, symmetries, *etc.*:\n",
    "\n",
    "filename|description\n",
    ":-----------|:--------------------------------\n",
    "**LATTICE.OUT**| Information on the lattice: Primitive lattice vectors, unit cell volume, reciprocal lattice vectors, *etc.*\n",
    "**SYMCRYS.OUT**| Information on the symmetry operations of the crystal; more symmetry information are found in the files **SYMT2.OUT**, **SYMSITE.OUT**, **SYMMULT.OUT**, **SYMLAT.OUT**, **SYMINV.OUT**, and **SYMGENR.OUT**.\n",
    "**KPOINTS.OUT**| List of **k**-points, their coordinates (in units of the reciprocal lattice vectors), weights, matrix size.\n",
    "**BONDLENGTH.OUT**| Interatomic distances; useful to check the correctness of an input file.\n",
    "**EQATOMS.OUT**| Information on equivalency of atoms due to the crystal symmetry.\n",
    "\n",
    "&nbsp;\n",
    "\n",
    "- Output files in **XML** format, useful for data storage, databases, *etc.*\n",
    "\n",
    "filename|description\n",
    ":-----------|:--------------------------------\n",
    "**atoms.xml**| The results of calculations performed for atoms in order to initialize the electron density.\n",
    "**info.xml**| The information contained in this file is similar to the one written in INFO.OUT, but displayed in the XML format.\n",
    "**geometry.xml**| Structural information on the system. This will often be identical to the element <code><span style=\"color:green\">structure</span></code> in your input file, but may differ for certain settings of the attributes in <code><span style=\"color:green\">structure</span></code>, *e.g*., if <code><span style=\"color:mediumblue\">primcell</span></code> = **\"true\"** or <code><span style=\"color:mediumblue\">tshift</span></code> = **\"true\"**\n",
    "\n",
    "&nbsp;\n",
    "\n",
    "- Some of the output files are not directly readable, because they are written as binary files. They are used by **exciting** for current storage of vectors and matrices. They are relevant when restarting or extending an existing calculation.\n",
    "\n",
    "\n",
    "filename|description\n",
    ":-----------|:--------------------------------\n",
    "**EVALFV.OUT**| First-variational eigenvalues.\n",
    "**EVALSV.OUT**| Second-variational eigenvalues.\n",
    "**EVECFV.OUT**| First-variational eigenvectors.\n",
    "**EVECSV.OUT**| Second-variational eigenvectors..\n",
    "**OCCSV.OUT** | Occupation of the second-variational states.\n",
    "**STATE.OUT**| Real-space distribution of the density and the potential"
   ]
  },
  {
   "cell_type": "markdown",
   "metadata": {
    "pycharm": {
     "name": "#%% md\n"
    }
   },
   "source": [
    "- Both **<span style=\"color:firebrick\">initial</span>** (*e.g.*, **C.xml**) and **<span style=\"color:firebrick\">self-consistent</span>** (*e.g.*, **C_scf.xml**) **speciesfiles** are also saved, at the end of the run, in the working directory. These files specify which basis functions are used for each element in a calculation performed with **exciting**.\n",
    "\n",
    "<hr style=\"border:2px solid #DDD\"> </hr>"
   ]
  }
 ],
 "metadata": {
  "kernelspec": {
   "display_name": "excitingjupyter",
   "language": "python",
   "name": "excitingjupyter"
  },
  "language_info": {
   "codemirror_mode": {
    "name": "ipython",
    "version": 3
   },
   "file_extension": ".py",
   "mimetype": "text/x-python",
   "name": "python",
   "nbconvert_exporter": "python",
   "pygments_lexer": "ipython3",
   "version": "3.7.10"
  }
 },
 "nbformat": 4,
 "nbformat_minor": 1
}