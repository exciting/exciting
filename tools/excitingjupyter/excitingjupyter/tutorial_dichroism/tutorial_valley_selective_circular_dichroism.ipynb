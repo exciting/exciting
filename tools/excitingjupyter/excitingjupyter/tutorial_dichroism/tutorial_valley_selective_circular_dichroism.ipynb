{
 "cells": [
  {
   "cell_type": "markdown",
   "metadata": {
    "collapsed": true,
    "pycharm": {
     "name": "#%% md\n"
    }
   },
   "source": [
    "# Valley-selective circular dichroism in 2D hexagonal materials within BSE\n",
    "**by <span style=\"color:darkgreen\">Maximilian Schebek</span> for [<span style=\"color:DarkGoldenRod\">exciting *fluorine*</span>](http://exciting.wikidot.com/fluorine)**\n",
    "\n",
    "<hr style=\"border:2px solid #DDD\"> </hr>"
   ]
  },
  {
   "cell_type": "markdown",
   "metadata": {
    "pycharm": {
     "name": "#%% md\n"
    }
   },
   "source": [
    "**<span style=\"color:firebrick\">Purpose</span>**: In this tutorial you will learn how compute valley-selective circular dichroism within the Bethe-Salpeter-equation (**BSE**) framework as presented in [**Caruso, Schebek, et al., J. Phys. Chem. Lett. 2022, 13, 25, 5894–5899**](https://pubs.acs.org/doi/full/10.1021/acs.jpclett.2c01034). As an example, this effect will be studied for Molybdenum disulfide (MoS2). Note that this is an advanced tutorial - make sure to be familiar with the basics of BSE as explained e.g. in the tutorials [**Excited states from BSE**](../tutorial_excited_states_from_bse/tutorial_excited_states_from_bse.ipynb) and [**Exciton Analysis and Visualization**](http://exciting.wikidot.com/oxygen-exciton-visualization) (not yet available as notebook).\n",
    "\n",
    "<hr style=\"border:2px solid #DDD\"> </hr>"
   ]
  },
  {
   "cell_type": "markdown",
   "metadata": {
    "pycharm": {
     "name": "#%% md\n"
    }
   },
   "source": [
    "<div class=\"alert alert-block alert-warning\">\n",
    "    \n",
    "**Table of Contents**\n",
    "\n",
    "[0. Preparation](#0)\n",
    "    \n",
    "[1. Theoretical Background: Bethe-Salpeter Equation](#1)\n",
    "    \n",
    "  - The BSE Hamiltonian\n",
    "    \n",
    "    \n",
    "[2. Preliminary Step: Ground-State Calculation](#2)\n",
    "    \n",
    "[3. How to Run a BSE Calculation](#3)\n",
    "    \n",
    "  - Preparation of the Input File\n",
    "  - Additional Information about the Calculation Workflow\n",
    "  - Running exciting and Analysing the Results\n",
    "  - Scaling and Convergence\n",
    "  - Exercises\n",
    "  \n",
    "    \n",
    "[4. BSE Calculations on Top of GW](#4)\n",
    "    \n",
    "[5. BSE Beyond the TDA](#5)\n",
    "\n",
    "[Literature](#6)\n",
    "\n",
    "</div>"
   ]
  },
  {
   "cell_type": "markdown",
   "metadata": {},
   "source": [
    "<a id='0'></a>\n",
    "<hr style=\"border:1px solid #DDD\"> </hr>\n",
    "\n",
    "### <span style=\"color:#15317E\">0. Preparation</span>\n",
    "\n",
    "Before running any Jupyter tutorials, please refer to the [**00_before_starting.md**](../00_before_starting.md) document on how to correctly set up the environment. This only needs to be done once. After which, the **venv** can be (re)activated from exciting's root directory:\n",
    "\n",
    "<div style=\"background-color: rgb(224, 224, 224);\">\n",
    "\n",
    "```bash\n",
    "source tools/excitingjupyter/venv/excitingvenv/bin/activate\n",
    "```\n",
    "\n",
    "</div>\n",
    "\n",
    "</div>\n",
    "\n",
    "In order to run the scripts used in the **exciting** tutorials, it is important that the relevant environment variables are already defined in your **~/.bashrc** file as specified in **<span style=\"color:#00578A\">How to set environment variables for tutorials scripts</span>**. However, this is not necessary for running the tutorials inside Jupyter Notebooks.\n",
    "\n",
    "If you want to run this tutorial in a Jupyter Notebook, make sure to create an virutal environment as explained in [**How to start an exciting calculation**](tutorial1.ipynb). Subsequently, you should load all libraries needed for this tutorial by executing the following cell.\n"
   ]
  },
  {
   "cell_type": "code",
   "execution_count": 3,
   "metadata": {},
   "outputs": [],
   "source": [
    "import matplotlib.pyplot as plt\n",
    "import numpy as np\n",
    "from excitingjupyter.utilities import set_plot_parameters\n"
   ]
  },
  {
   "cell_type": "markdown",
   "metadata": {},
   "source": [
    "Finally, we determine the root directory of **exciting**, in which the binary executables as well as the species files are located."
   ]
  },
  {
   "cell_type": "code",
   "execution_count": 4,
   "metadata": {},
   "outputs": [
    {
     "name": "stdout",
     "output_type": "stream",
     "text": [
      "/home1/codes/exciting_work\n"
     ]
    }
   ],
   "source": [
    "import os\n",
    "from excitingjupyter.utilities import get_exciting_root\n",
    "\n",
    "exciting_root = get_exciting_root()\n",
    "exciting_species = os.path.join(exciting_root, \"species\")\n",
    "print(exciting_root)"
   ]
  },
  {
   "cell_type": "markdown",
   "metadata": {},
   "source": [
    "<a id='1'></a>\n",
    "<hr style=\"border:1px solid #DDD\"> </hr>\n",
    "\n",
    "### <span style=\"color:#15317E\">1. Theoretical Background: Valley-selective circular dichroism</span>\n",
    "<!-- <details> -->\n",
    "<summary><strong><span style=\"color:firebrick\"> Click to show theoretical background!</span></strong></summary>\n",
    "\n",
    "Before starting with the calculation, we briefly review the theoretical background. The 2-fold valley degeneracy of monolayer transition-metal\n",
    "dichalcogenides (TMDs) makes them suitable candidates for the exploration of novel concepts in valleytronics. In particular, circularly polarized light can lead to a pronounced valleyselective circular dichroism (VCD), whereby absorption is governed by the formation of bound electron−hole pairs (excitons) at the ${\\rm K}$ or $\\overline{\\rm K}$ valleys (denoted as $\\mathcal{P}_{\\rm K}$ and $\\mathcal{P}_{\\overline{\\rm K}}$, respectively) in the Brillouin zone (BZ) depending on the light helicity. This effect is sketched in the following figure (copied from [**Caruso, Schebek, et al., J. Phys. Chem. Lett. 2022, 13, 25, 5894–5899**](https://pubs.acs.org/doi/full/10.1021/acs.jpclett.2c01034)): Right handed polarized light only excites electrons in one valley of the Brillouin zone.\n",
    "\n",
    "![BSE workflow](vscd_sketch.jpg)\n",
    "\n",
    "The main result of a **BSE** calculation is the macroscopic dielectric function (especially the imaginary part $\\varepsilon_2$), which can be related to experimentally observable quantities. In the case of VSCD, we are interested in the *valley-resolved* imaginary part of the dielectric function, which we denote as  $\\varepsilon^{(\\pm)}_{\\rm 2,K}$ for right-handed ($-$) and left-handed ($+$) circularly polarized light. The index ${\\rm K}$ indicates that this quantitiy only accounts for excitations within the coming from the ${\\rm K}$-valley, the corresponding expression for the ${\\rm \\overline{K}}$-valley can be obtained by simply replacing the corresponding indices.\n",
    "\n",
    "Within the theory of VSCD, the dielectric function $\\varepsilon^{(\\pm)}_{\\rm 2,K}$ can be obtained in terms of valley-resolved *dichroic tensor* defined as\n",
    "\n",
    "$$\n",
    "\\varepsilon^{(\\pm)}_{\\rm 2,K}(\\omega) = \\frac{1}{2}[\\xi^{\\rm K}_{xx}(\\omega) + \\xi^{\\rm K}_{yy}(\\omega)] \\mp {\\rm Im}[\\xi^{\\rm K}_{xy}(\\omega)]\n",
    "$$\n",
    "with the dichroic tensor\n",
    "$$\n",
    "\\xi^{\\rm K}_{\\alpha\\beta}(\\omega) = \\frac{4\\pi}{V}\\sum_\\lambda(t_{\\rm K}^{\\lambda,\\alpha})^* t_{\\rm K}^{\\lambda,\\beta}\\delta(E^\\lambda - \\omega).\n",
    "$$\n",
    "The transition coefficients are given in terms of the BSE solutions $A^\\lambda_{vc\\mathbf{k}}$  by \n",
    "$$\n",
    "\\mathbf{t}_{\\rm K}^\\lambda = \\sum_{vc}\\sum^{\\mathcal{P}_{\\rm K}}_{\\mathbf{k}}A^\\lambda_{vc\\mathbf{k}}\\frac{\\langle \\psi_{c\\mathbf{k}}|\\hat{\\mathbf{p}}|\\psi_{c\\mathbf{k}} \\rangle}{\\epsilon_{c\\mathbf{k}} - \\epsilon_{v\\mathbf{k}}}.\n",
    "$$\n",
    "\n",
    "\n",
    "<!-- </details> -->\n"
   ]
  },
  {
   "cell_type": "markdown",
   "metadata": {
    "pycharm": {
     "name": "#%% md\n"
    }
   },
   "source": [
    "<a id='2'></a>\n",
    "<hr style=\"border:1px solid #DDD\"> </hr>\n",
    "\n",
    "### <span style=\"color:#15317E\">2. Preliminary Step: Ground-State Calculation</span>\n",
    "\n",
    "\n",
    "**<span style=\"color:firebrick\">Important note:</span>** All input parameters are given in **atomic units!**\n",
    "\n",
    "As a preliminary step to calculate excited-state properties from **BSE**, a ground-state calculation has to be performed. In this tutorial we consider as an example LiF. As for all other tutorials, you can choose between executing all steps manually from your command line, or to simply execute the python cells in this Jupyter notebook.\n",
    "\n",
    "In order to run calculations manually, create a directory named **run** and move into it.\n",
    "\n",
    "```bash\n",
    "$ mkdir run\n",
    "$ cd run\n",
    "```\n",
    "\n",
    "Inside the directory **run** we create a sub-directory **GS** where we perform the preliminary ground state calculation:\n",
    "\n",
    "```bash\n",
    "$ mkdir GS\n",
    "$ cd GS\n",
    "```\n",
    "\n",
    "\n",
    "By executing the following cell, the Notebook takes care of creating the directories. We first  create a directory **run**, in which we create two further subdirectories, **run/GS** and **run/BSE**, for the groundstate and BSE calculations, respectively.\n"
   ]
  },
  {
   "cell_type": "code",
   "execution_count": 1,
   "metadata": {},
   "outputs": [],
   "source": [
    "%%bash\n",
    "#create a directory to run exciting if it does not exist yet\n",
    "mkdir -p run/GS\n"
   ]
  },
  {
   "cell_type": "markdown",
   "metadata": {},
   "source": [
    "Inside the **GS** sub-directory we create the input file for LiF. In the <code><span style=\"color:green\">structure</span></code> element we include the lattice parameter and basis vectors of MoS2, which has a hexagonal two-dimensional lattice, as well as the positions of the Mo and S atoms. In the <code><span style=\"color:green\">groundstate</span></code> element, we include a **2×2×1** **k**-point mesh (<code><span style=\"color:mediumblue\">ngridk</span></code>). Note that this will result in highly uncoverged calculations - however, denser grids would take too long to run for this tutorial. You are encouraged to run calculations with denser grids on a cluster, if available to you. \n",
    "\n",
    "For manual execution, copy and paste the following into the new file **input.xml**:\n",
    "\n",
    "\n",
    "```xml\n",
    "<input>\n",
    " \n",
    "   <title> MoS2 with SOC </title>\n",
    "\n",
    "\n",
    "  <structure speciespath=\"$EXCITINGROOT/species \" cartesian=\"true\"  tshift=\"false\">\n",
    "\n",
    "    <crystal scale = \"6.0246\">\n",
    "      <basevect>   1.000000       0.0000000       0.000000000</basevect>\n",
    "      <basevect>  -0.500000       0.8660254       0.000000000</basevect>\n",
    "      <basevect>   0.000000       0.0000000       2.0</basevect>\n",
    "    </crystal>\n",
    "    <species speciesfile=\"Mo.xml\" rmt=\"2.2000\">\n",
    "      <atom coord=\"0.0     3.47830442      6.01020121\"/>\n",
    "    </species>\n",
    "    <species speciesfile=\"S.xml\" rmt=\"2.2000\">\n",
    "      <atom coord=\"3.0123      1.73915221      3.0353247\"/>\n",
    "      <atom coord=\"3.0123      1.73915221      8.98501039\"/>\n",
    "    </species>\n",
    "  </structure>       \n",
    "  \n",
    "<groundstate \n",
    "       do=\"fromscratch\" \n",
    "       ngridk=\"2 2 1\" \n",
    "       xctype=\"GGA_PBE\" \n",
    "       nempty=\"2\" \n",
    "       rgkmax=\"3\"\n",
    "       >\n",
    "    <spin spinorb=\"true\">\n",
    "    </spin>\n",
    "  </groundstate>\n",
    "\n",
    "\n",
    " \n",
    "</input>\n",
    "```\n",
    "\n",
    "**<span style=\"color:firebrick\">N.B.</span>**: Do not forget to replace the string **\"\\$EXCITINGROOT\"** in **input.xml** by the actual value of the environment variable **\\$EXCITINGROOT** by running\n",
    "\n",
    "```bash\n",
    "SETUP-excitingroot.sh\n",
    "```\n",
    "\n",
    "\n",
    "For an execution within the notebook, execute the following cell. It writes the complete input for the groundstate calculation as a string and saves it in the subdirectory **run/GS** as **input.xml**. While for storage or archiving purposes you may choose any name for the input file, running the **exciting** code requires that specifically the file **input.xml** is present."
   ]
  },
  {
   "cell_type": "code",
   "execution_count": 14,
   "metadata": {},
   "outputs": [],
   "source": [
    "species_path = os.path.join(exciting_root, \"species\")\n",
    "\n",
    "input_str = f\"\"\"\n",
    "<input>\n",
    " \n",
    "  <title> MoS2 with SOC </title>\n",
    "\n",
    "\n",
    "   <structure speciespath=\"{species_path}\" cartesian=\"true\"  tshift=\"false\">\n",
    "\n",
    "    <crystal scale = \"6.0246\">\n",
    "      <basevect>   1.000000       0.0000000       0.000000000</basevect>\n",
    "      <basevect>  -0.500000       0.8660254       0.000000000</basevect>\n",
    "      <basevect>   0.000000       0.0000000       2.0</basevect>\n",
    "    </crystal>\n",
    "    <species speciesfile=\"Mo.xml\" rmt=\"2.2000\">\n",
    "      <atom coord=\"0.0     3.47830442      6.01020121\"/>\n",
    "    </species>\n",
    "    <species speciesfile=\"S.xml\" rmt=\"2.2000\">\n",
    "      <atom coord=\"3.0123      1.73915221      3.0353247\"/>\n",
    "      <atom coord=\"3.0123      1.73915221      8.98501039\"/>\n",
    "    </species>\n",
    "  </structure>       \n",
    "  \n",
    "<groundstate \n",
    "       do=\"fromscratch\" \n",
    "       ngridk=\"2 2 1\" \n",
    "       xctype=\"GGA_PBE\" \n",
    "       nempty=\"2\" \n",
    "       rgkmax=\"3\"\n",
    "       radialgridtype=\"cubic-2\"\n",
    "       >\n",
    "    <spin spinorb=\"true\">\n",
    "    </spin>\n",
    "  </groundstate>\n",
    " \n",
    "</input>\n",
    "\n",
    "\"\"\"\n",
    "\n",
    "# Write out the input as an XML file:\n",
    "with open(os.path.join(os.getcwd(), 'run/GS/input.xml'), \"w\") as fid:\n",
    "    fid.write(input_str)"
   ]
  },
  {
   "cell_type": "markdown",
   "metadata": {},
   "source": [
    "Now the ground-state **SCF** can be started manually by executing the **exciting_smp** binary typing \n",
    "```bash\n",
    "time exciting_smp\n",
    "```\n",
    "\n",
    "Here we used the **time** command before **exciting_serial** in order to get, at the end of the run, the elapsed time explicitly written on the screen.\n",
    "\n",
    "\n",
    "Running **exciting** in python can alternatively be done within the Notebook by executing the following cell."
   ]
  },
  {
   "cell_type": "code",
   "execution_count": 15,
   "metadata": {},
   "outputs": [
    {
     "name": "stdout",
     "output_type": "stream",
     "text": [
      " ### Using specified input file: input.xml\n"
     ]
    },
    {
     "name": "stderr",
     "output_type": "stream",
     "text": [
      "   Elapsed time = 0m35s\n"
     ]
    }
   ],
   "source": [
    "%%bash\n",
    "# move into the run directory\n",
    "cd run/GS\n",
    "# Set up environment.\n",
    "# Note that this is platform-specific. With the Modules package you can e.g. use\n",
    "module unload intel-oneapi/2021.3\n",
    "module load intel-oneapi/2021.3\n",
    "\n",
    "# module load intel/2019\n",
    "# run exciting\n",
    "time $EXCITINGROOT/bin/exciting_serial input.xml;\n",
    "# move back to parent directory \n",
    "cd .."
   ]
  },
  {
   "cell_type": "markdown",
   "metadata": {},
   "source": [
    "<a id='3'></a>\n",
    "<hr style=\"border:1px solid #DDD\"> </hr>\n",
    "\n",
    "### <span style=\"color:#15317E\">3. How to Run a BSE Calculation with VSCD</span>\n"
   ]
  },
  {
   "cell_type": "markdown",
   "metadata": {},
   "source": [
    "**i) Preparation of the Input File**\n",
    "\n",
    "Now we are ready to perform a **BSE** calculation using the **TDA**. To do this manually, move to the parent directory **run** and create a new folder which we name **BSE**. Then, we move into it: \n",
    "\n",
    "```bash\n",
    "cd ..\n",
    "mkdir BSE\n",
    "cd BSE\n",
    "```\n",
    "\n",
    "\n",
    "\n",
    "This step can also be executed in the Notebook by running the following cell."
   ]
  },
  {
   "cell_type": "code",
   "execution_count": 7,
   "metadata": {},
   "outputs": [],
   "source": [
    "%%bash\n",
    "mkdir -p run/BSE"
   ]
  },
  {
   "cell_type": "markdown",
   "metadata": {},
   "source": [
    "Copy the necessary ground-state files from the **GS** folder into the **BSE** path with\n",
    "\n",
    "```bash\n",
    "cp ../GS/{STATE.OUT,EFERMI.OUT,input.xml} ./\n",
    "```\n",
    "\n",
    "This step can also be executed in the Notebook by running the following cell."
   ]
  },
  {
   "cell_type": "code",
   "execution_count": 16,
   "metadata": {},
   "outputs": [],
   "source": [
    "import shutil\n",
    "\n",
    "groundstate_directory = 'run/GS'\n",
    "bse_directory = 'run/BSE'\n",
    "\n",
    "files = ['STATE.OUT', 'EFERMI.OUT']\n",
    "\n",
    "source = os.path.join(groundstate_directory, files[0])\n",
    "dest = os.path.join(bse_directory, files[0])\n",
    "\n",
    "# Copy files form groundstate calculation to BSE directory\n",
    "for file in files:\n",
    "    source = os.path.join(groundstate_directory, file)\n",
    "    dest = os.path.join(bse_directory, file)\n",
    "    shutil.copyfile(source, dest)\n"
   ]
  },
  {
   "cell_type": "markdown",
   "metadata": {},
   "source": [
    "We can then skip the ground-state calculation by setting  <code><span style=\"color:mediumblue\">do</span>=<span style=\"color:firebrick\">\"skip\"</span></code> in the <code><span style=\"color:green\">groundstate</span></code> element of the input file.\n",
    "\n",
    "To perform an excited-state calculation we must include the  <code><span style=\"color:green\">xs</span></code> element in the input file:\n",
    "\n",
    "```xml\n",
    "...\n",
    "  <xs \n",
    "      xstype=\"BSE\" \n",
    "      ngridk=\"3 3 1\" \n",
    "      vkloff=\"0.5 0.5 0.0\"\n",
    "      ngridq=\"3 3 1\"\n",
    "      nempty=\"100\"\n",
    "      gqmax=\"1.3\"\n",
    "      broad=\"0.0018\"\n",
    "      scissor=\"0.0\"\n",
    "      tappinfo=\"true\"\n",
    "      tevout=\"true\">\n",
    " \n",
    "      <energywindow \n",
    "         intv=\"0.0 0.5\" \n",
    "         points=\"2400\"/>\n",
    " \n",
    "      <screening \n",
    "         screentype=\"full\"\n",
    "         nempty=\"100\"/>\n",
    " \n",
    "      <BSE\n",
    "         bsetype=\"singlet\"\n",
    "         nstlbse=\"23 26 1 4\" \n",
    "         dichroism=\"true\"\n",
    "\t                        />\n",
    " \n",
    "      <qpointset>\n",
    "         <qpoint>0.0 0.0 0.0</qpoint>\n",
    "      </qpointset>\n",
    "\n",
    " \n",
    "   </xs>                 \n",
    "...\n",
    "```"
   ]
  },
  {
   "cell_type": "markdown",
   "metadata": {},
   "source": [
    "The meaning of these attributes are explained in [**Excited states from BSE**](../tutorial_excited_states_from_bse/tutorial_excited_states_from_bse.ipynb). Note that for the calculation of VSCD, the only thing we have to is to set <code><span style=\"color:mediumblue\">dichroism=\"true\"</span></code>. Note that we set <code><span style=\"color:mediumblue\">vkloff=\"0.5 0.5 0.0\"</span></code>: This is needed in order to distribute the **k**-points around the high symmetry ${\\rm K}$-points in a symmetric way. Leaving this out would prefer one or the other point in the calculation and  distort the result."
   ]
  },
  {
   "cell_type": "markdown",
   "metadata": {},
   "source": [
    "**iii) Running exciting and analysing the results**\n",
    "\n",
    "We can now run the **BSE** calculation from the command line. \n",
    "```bash\n",
    "time exciting_serial\n",
    "```\n",
    "\n",
    "If you run the calculation outside this Jupyter Notebook, you will see some strings printed on the screen while the calculation is running.  A successfully completed BSE run will produce the following lines:\n",
    "\n",
    "\n",
    "```bash\n",
    "Calculating RPA Dielectric Function:                100.000 \n",
    "Calculating Screened Coulomb Potential:             100.000 \n",
    "Calculating Screened Coulomb Matrix Elements:       100.000 \n",
    "Calculating Plane-wave matrix elements:             100.000 \n",
    "Calculating Exchange Interaction Matrix Elements:   100.000 \n",
    "Solving BSE Eigenvalue Problem:                     100.000\n",
    "```\n",
    "\n",
    "Again, we can alternatively run **exciting** in python by first writing the file **input.xml** and subsequently executing the **exciting_smp** binary.\n",
    "\n"
   ]
  },
  {
   "cell_type": "code",
   "execution_count": 17,
   "metadata": {},
   "outputs": [],
   "source": [
    "species_path = os.path.join(exciting_root, \"species\")\n",
    "\n",
    "input_str = f\"\"\"\n",
    "<input>\n",
    " \n",
    "  <title> MoS2 with SOC </title>\n",
    "\n",
    "\n",
    "   <structure speciespath=\"{species_path}\" cartesian=\"true\"  tshift=\"false\">\n",
    "\n",
    "    <crystal scale = \"6.0246\">\n",
    "      <basevect>   1.000000       0.0000000       0.000000000</basevect>\n",
    "      <basevect>  -0.500000       0.8660254       0.000000000</basevect>\n",
    "      <basevect>   0.000000       0.0000000       2.0</basevect>\n",
    "    </crystal>\n",
    "    <species speciesfile=\"Mo.xml\" rmt=\"2.2000\">\n",
    "      <atom coord=\"0.0     3.47830442      6.01020121\"/>\n",
    "    </species>\n",
    "    <species speciesfile=\"S.xml\" rmt=\"2.2000\">\n",
    "      <atom coord=\"3.0123      1.73915221      3.0353247\"/>\n",
    "      <atom coord=\"3.0123      1.73915221      8.98501039\"/>\n",
    "    </species>\n",
    "  </structure>       \n",
    "  \n",
    "  <groundstate \n",
    "       do=\"skip\" \n",
    "       ngridk=\"2 2 1\" \n",
    "       xctype=\"GGA_PBE\" \n",
    "       nempty=\"2\" \n",
    "       rgkmax=\"3\"\n",
    "       radialgridtype=\"cubic-2\"\n",
    "       >\n",
    "    <spin spinorb=\"true\">\n",
    "    </spin>\n",
    "  </groundstate>\n",
    "\n",
    "\n",
    "   <xs \n",
    "      xstype=\"BSE\" \n",
    "      ngridk=\"3 3 1\" \n",
    "      vkloff=\"0.5 0.5 0.0\"\n",
    "      ngridq=\"3 3 1\"\n",
    "      nempty=\"100\"\n",
    "      gqmax=\"1.3\"\n",
    "      broad=\"0.0018\"\n",
    "      scissor=\"0.0\"\n",
    "      tappinfo=\"true\"\n",
    "      tevout=\"true\"\n",
    "      dfoffdiag=\"true\">\n",
    " \n",
    "      <energywindow \n",
    "         intv=\"0.0 0.5\" \n",
    "         points=\"2400\"/>\n",
    " \n",
    "      <screening \n",
    "         screentype=\"full\"\n",
    "         nempty=\"100\"/>\n",
    " \n",
    "      <BSE\n",
    "         bsetype=\"singlet\"\n",
    "         nstlbse=\"23 26 1 4\"\n",
    "         dichroism=\"true\"\n",
    "\t />\n",
    " \n",
    "      <qpointset>\n",
    "         <qpoint>0.0 0.0 0.0</qpoint>\n",
    "      </qpointset>\n",
    " \n",
    "</xs>\n",
    "\n",
    "\n",
    "</input>\n",
    "\n",
    "\n",
    "\"\"\"\n",
    "\n",
    "# Write out the input as an XML file:\n",
    "with open(os.path.join(os.getcwd(), 'run/BSE/input.xml'), \"w\") as fid:\n",
    "    fid.write(input_str)"
   ]
  },
  {
   "cell_type": "code",
   "execution_count": 18,
   "metadata": {},
   "outputs": [
    {
     "name": "stdout",
     "output_type": "stream",
     "text": [
      " ### Using specified input file: input.xml\n",
      "Calculating RPA Dielectric Function:                100.000 \n",
      "Calculating Screened Coulomb Potential:             100.000 \n",
      "Calculating Screened Coulomb Matrix Elements:       100.000 \n",
      "Calculating Plane-wave matrix elements:             100.000 \n",
      "Calculating Exchange Interaction Matrix Elements:   100.000 \n",
      "Solving BSE Eigenvalue Problem:                     100.000 \n"
     ]
    },
    {
     "name": "stderr",
     "output_type": "stream",
     "text": [
      "   Elapsed time = 0m22s\n"
     ]
    }
   ],
   "source": [
    "%%bash\n",
    "# move into the run directory\n",
    "cd run/BSE; \n",
    "# Set up environment\n",
    "# Note that this is platform-specific. With the Modules package you can e.g. use\n",
    "# module load intel/2019\n",
    "# run exciting\n",
    "time $EXCITINGROOT/bin/exciting_serial input.xml;\n",
    "# move back to parent directory \n",
    "cd ..;"
   ]
  },
  {
   "cell_type": "markdown",
   "metadata": {},
   "source": [
    "After the calculation has finished, we proceed with the analysis of the results. A number of files and folders are present in the working directory. Most of them contain technical information about the calculation that is not strictly related to the physical interpretation of the results. We are interested in plotting the optical absorption spectrum of MoS2 or, more precisely, the valley-resolved imaginary part of the dielectric function. The plot can be produced within this notebook by executing the following cell. In case you had problems with running the calculation or don't want to wait until it is finished, you can still plot the results from the provided reference data by setting  \n",
    "\n",
    "```python\n",
    "take_files_from_reference = True\n",
    "```\n"
   ]
  },
  {
   "cell_type": "code",
   "execution_count": 32,
   "metadata": {},
   "outputs": [
    {
     "data": {
      "image/png": "[encoded data removed]",
      "text/plain": [
       "<Figure size 1000x500 with 1 Axes>"
      ]
     },
     "metadata": {},
     "output_type": "display_data"
    }
   ],
   "source": [
    "take_files_from_reference = True\n",
    "\n",
    "# Get dichroic tensor from K valley\n",
    "file_source = 'ref/DICHROIC_K/' if take_files_from_reference is True else 'run/BSE/DICHROIC_K/'\n",
    "\n",
    "dichroic_k_xx = np.genfromtxt(os.path.join(\n",
    "    file_source,'DICHROIC_K_BSE-singlet-TDA-BAR_SCR-full_OC11.OUT'))\n",
    "dichroic_k_yy = np.genfromtxt(os.path.join(\n",
    "    file_source,'DICHROIC_K_BSE-singlet-TDA-BAR_SCR-full_OC22.OUT'))\n",
    "dichroic_k_xy = np.genfromtxt(os.path.join(\n",
    "    file_source,'DICHROIC_K_BSE-singlet-TDA-BAR_SCR-full_OC12.OUT'))\n",
    "\n",
    "# Get dichroic tensor from K-BAR valley\n",
    "file_source = 'ref/DICHROIC_KBAR/' if take_files_from_reference is True else 'run/BSE/DICHROIC_KBAR/'\n",
    "\n",
    "dichroic_kbar_xx = np.genfromtxt(os.path.join(\n",
    "    file_source,'DICHROIC_KBAR_BSE-singlet-TDA-BAR_SCR-full_OC11.OUT'))\n",
    "dichroic_kbar_yy = np.genfromtxt(os.path.join(\n",
    "    file_source,'DICHROIC_KBAR_BSE-singlet-TDA-BAR_SCR-full_OC22.OUT'))\n",
    "dichroic_kbar_xy = np.genfromtxt(os.path.join(\n",
    "    file_source,'DICHROIC_KBAR_BSE-singlet-TDA-BAR_SCR-full_OC12.OUT'))\n",
    "\n",
    "# Build valley-resolved dielectric function from K and K_BAR valley for left-handed polarized light\n",
    "eps_valley_resolved_k = 1 / 2 * (dichroic_k_xx[:,1] + dichroic_k_yy[:,1]) +  dichroic_k_xy[:,2]\n",
    "eps_valley_resolved_kbar = 1 / 2 * (dichroic_kbar_xx[:,1] + dichroic_kbar_yy[:,1]) +  dichroic_kbar_xy[:,2]\n",
    "\n",
    "# Get frequency grid from data\n",
    "frequencies = dichroic_k_xx[:,0]\n",
    "\n",
    "set_plot_parameters(figure_width=10, figure_height=5, fontsize=20)\n",
    "fig, ax =  plt.subplots()\n",
    "ax.plot(frequencies, eps_valley_resolved_k, label=r'${\\rm K}$')\n",
    "ax.plot(frequencies, eps_valley_resolved_kbar, label=r'$\\overline{{\\rm K}}$')\n",
    "\n",
    "ax.set_xlabel('Energy [eV]')\n",
    "ax.set_ylabel(r\"$\\mathrm{Im}\\;\\; \\varepsilon$\")\n",
    "ax.set_title('Valley-resolved dielectric function MoS2')\n",
    "ax.set_xlim(2,6)\n",
    "ax.legend()\n",
    "# ax.set_ylim(0,8)\n",
    "plt.show()"
   ]
  },
  {
   "cell_type": "markdown",
   "metadata": {},
   "source": [
    "We cleary see that, in the low-energy region, the optical excitations almost exlusively stem from the ${\\rm K}$ valley, whereas excitations from the $\\overline{{\\rm K}}$ valley  are suppressed. Note that for this example, we are plotting the dielectric function for left-handed circularly polarized light. You can try to modify the code to show the dielectric function for right-handed circularly polarized light. In this case, you should see that the contributions from the valleys switch, i.e. a strong contribution from the  $\\overline{{\\rm K}}$ valley and only a tiny contribution from the ${\\rm K}$ valley."
   ]
  }
 ],
 "metadata": {
  "kernelspec": {
   "display_name": "mlenv",
   "language": "python",
   "name": "python3"
  },
  "language_info": {
   "codemirror_mode": {
    "name": "ipython",
    "version": 3
   },
   "file_extension": ".py",
   "mimetype": "text/x-python",
   "name": "python",
   "nbconvert_exporter": "python",
   "pygments_lexer": "ipython3",
   "version": "3.7.5 (default, Oct 25 2019, 15:51:11) \n[GCC 7.3.0]"
  },
  "vscode": {
   "interpreter": {
    "hash": "d07deaa654bc03794db1391808bf4186ff3340fdc0ce9160cb0eea237353b694"
   }
  }
 },
 "nbformat": 4,
 "nbformat_minor": 1
}
