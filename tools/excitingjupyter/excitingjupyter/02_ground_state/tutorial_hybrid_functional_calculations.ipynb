{
 "cells": [
  {
   "cell_type": "markdown",
   "metadata": {
    "collapsed": true,
    "pycharm": {
     "name": "#%% md\n"
    }
   },
   "source": [
    "# Hybrid-Functional Calculations \n",
    "**by <span style=\"color:darkgreen\">Cecilia Vona</span>, <span style=\"color:darkgreen\">Ute Werner</span>, & <span style=\"color:darkgreen\">Dmitrii Nabok</span> for [<span style=\"color:DarkGoldenRod\">exciting oxygen</span>](http://exciting.wikidot.com/oxygen)**\n",
    "\n",
    "<font size=\"2\">(Jupyter notebook by <span style=\"color:darkgreen\">Mara Voiculescu</span>)</font>\n",
    "<hr style=\"border:2px solid #DDD\"> </hr>\n"
   ]
  },
  {
   "cell_type": "markdown",
   "metadata": {
    "pycharm": {
     "name": "#%% md\n"
    }
   },
   "source": [
    "**<span style=\"color:firebrick\">Purpose</span>**: In this tutorial, you will learn how to perform ground-state calculations with the hybrid functionals **PBE0** and **HSE**. We will use diamond as test material. Since Diamond has an indirect band-gap, instead of considering the gap, we will look at how the transition energies in specific symmetry point changes, depending on the functional employed. Specifically we will consider the transition Γ→Γ and Γ→X.\n",
    "<hr style=\"border:2px solid #DDD\"> </hr>"
   ]
  },
  {
   "cell_type": "markdown",
   "metadata": {
    "pycharm": {
     "name": "#%% md\n"
    }
   },
   "source": [
    "<div class=\"alert alert-block alert-warning\">\n",
    "\n",
    "**Table of Contents**\n",
    "    \n",
    "[0. Before Starting](#0)\n",
    "    \n",
    "[1. Theoretical Background](#1)  \n",
    "    \n",
    "[2. PBE Calculation](#2)\n",
    "   - Preparation of the Input File\n",
    "   - Execute the Calculation \n",
    "\n",
    "[3. PBE0 Calculation](#3)\n",
    "   - Preparation of the Input File\n",
    "   - Execute the Calculation \n",
    "    \n",
    "[4. HSE Calculation](#4)\n",
    "   - Preparation of the Input File\n",
    "   - Execute the Calculation \n",
    "    \n",
    "[5. Post Processing](#5)      \n",
    "\n",
    "[6. Band Structure and Density of States ](#6)\n",
    "    \n",
    "[7. Exercise](#7)\n",
    "</div>"
   ]
  },
  {
   "cell_type": "markdown",
   "metadata": {
    "pycharm": {
     "name": "#%% md\n"
    }
   },
   "source": [
    "<a id='0'></a>\n",
    "<hr style=\"border:1px solid #DDD\"> </hr>\n",
    "\n",
    "### <span style=\"color:#15317E\">0. Before Starting</span>\n",
    "\n",
    "**<span style=\"color:firebrick\">Read the following paragraphs before starting with the rest of this tutorial!</span>**\n",
    "\n",
    "Before running any Jupyter tutorials, please refer to the **`00_before_starting.md`** document on how to correctly set up the environment. This only needs to be done once. After which, the **venv** can be (re)activated from exciting's root directory:\n",
    "\n",
    "<div style=\"background-color: rgb(224, 224, 224);\">\n",
    "\n",
    "```bash\n",
    "source tools/excitingjupyter/venv/excitingvenv/bin/activate\n",
    "```\n",
    "\n",
    "</div>\n",
    "\n",
    "As a first step, you may set the **exciting_root** directory and create a running directory for the notebook."
   ]
  },
  {
   "cell_type": "code",
   "execution_count": null,
   "metadata": {
    "pycharm": {
     "name": "#%%\n"
    }
   },
   "outputs": [],
   "source": [
    "import os\n",
    "from excitingjupyter.utilities import get_exciting_root, check_for_binary\n",
    "\n",
    "exciting_root = get_exciting_root()\n",
    "check_for_binary(exciting_root)\n",
    "exciting_species = os.path.join(exciting_root, \"species\")\n",
    "print(exciting_root)"
   ]
  },
  {
   "cell_type": "code",
   "execution_count": null,
   "metadata": {
    "pycharm": {
     "name": "#%%\n"
    }
   },
   "outputs": [],
   "source": [
    "%%bash\n",
    "mkdir run_tutorial_hybrid_functional_calculations"
   ]
  },
  {
   "cell_type": "markdown",
   "metadata": {
    "pycharm": {
     "name": "#%% md\n"
    }
   },
   "source": [
    "<a id='1'></a>\n",
    "<hr style=\"border:1px solid #DDD\"> </hr>\n",
    "\n",
    "### <span style=\"color:#15317E\">1. Theoretical Background</span>\n",
    "\n",
    "The hybrid exchange-correlation functionals are constructed by substituting a fraction of local/semi-local exchange by a fraction of non-local exact-exchange:\n",
    "\n",
    "\\begin{equation}\n",
    "E^{hyb}_{xc} = E^L_{xc}+\\alpha (E^{NL}_x-E^L_x).\n",
    "\\end{equation}\n",
    "\n",
    "The non-local exact exchange is often computed employing Hartree-Fock (**HF**). The type of the **DFT** local/semi-local functional and the fraction of non-local exact exchange substituted ($\\alpha$) vary depending on the hybrid functional type.\n",
    "\n",
    "The hybrid functionals **PBE0** and **HSE** are implemented in exciting. PBE0 has the following form:\n",
    "\n",
    "\\begin{equation}\n",
    "E^{PBE0}_{xc} = E^{PBE}_{xc}+\\alpha (E^{HF}_x-E^{PBE}_x)\\; ,\n",
    "\\end{equation}\n",
    "\n",
    "in which the semi-local functional is **PBE** and the fraction of exact-exchange substituted is uniquely determined by the mixing parameter α, which has the value **<span style=\"color:firebrick\">0.25</span>**.\n",
    "\n",
    "The hybrid functional HSE, which is a screened hybrid functional, has the following form:\n",
    "\n",
    "\\begin{equation}\n",
    "E^{HSE}_{xc} = E^{PBE}_{xc}+\\alpha [E^{HF,SR}_x(\\omega)-E^{PBE,SR}_x(\\omega)].\n",
    "\\end{equation}\n",
    "\n",
    "Also in **HSE**, **PBE** is used as semi-local functional, but only the short-range part of the non-local exact exchange is substituted. In fact, in **HSE** the amount of non-local exact exchange is determined by both the mixing parameter $\\alpha$=**<span style=\"color:firebrick\">0.25</span>** and the screening screening parameter $\\omega$, which defines the cutoff between the short-range and the long-range part of the Coulomb operator through the error function and its complementary:\n",
    "\n",
    "\\begin{equation}\n",
    "v(r)=v^{SR}(r,\\omega)+v^{LR}(r,\\omega)=\\frac{\\text{erfc}(\\omega r)}{r}+\\frac{\\text{erf}(\\omega r)}{r}.\n",
    "\\end{equation}\n",
    "\n",
    "The version of **HSE** which is implemented in **exciting** is **HSE06**, in which the **PBE** and **HF** contributions have the same value of $\\omega$=**<span style=\"color:firebrick\">0.11 $a_0^{-1}$</span>**."
   ]
  },
  {
   "cell_type": "markdown",
   "metadata": {
    "pycharm": {
     "name": "#%% md\n"
    }
   },
   "source": [
    "<a id='2'></a>\n",
    "<hr style=\"border:1px solid #DDD\"> </hr>\n",
    "\n",
    "### <span style=\"color:#15317E\">2. PBE Calculation</span>\n",
    "\n",
    "In order to investigate and compare the effect of hybrid functionals on the transition energies, we will start by performing a **GGA** calculation. For this purpose, we will use the **PBE** functional.\n",
    "\n",
    "Before starting the calculation, create a subdirectory called **PBE**."
   ]
  },
  {
   "cell_type": "code",
   "execution_count": null,
   "metadata": {
    "pycharm": {
     "name": "#%%\n"
    }
   },
   "outputs": [],
   "source": [
    "%%bash\n",
    "cd run_tutorial_hybrid_functional_calculations\n",
    "mkdir PBE"
   ]
  },
  {
   "cell_type": "markdown",
   "metadata": {
    "pycharm": {
     "name": "#%% md\n"
    }
   },
   "source": [
    "#### <span style=\"color:#15317E\">i) Preparation of the Input File</span>\n",
    "\n",
    "We start by creating an **exciting** (**xml**) input file called **input.xml** to compute the ground-state of diamond using the semi-local functional **PBE**. The file can look like this:\n",
    "\n",
    "```xml\n",
    "<input>\n",
    " \n",
    "   <title>Diamond PBE</title>\n",
    " \n",
    "   <structure speciespath=\"$EXCITINGROOT/species\" >\n",
    "      <crystal scale=\"6.7425\">\n",
    "         <basevect> 0.0     0.5     0.5 </basevect>\n",
    "         <basevect> 0.5     0.0     0.5 </basevect>\n",
    "         <basevect> 0.5     0.5     0.0 </basevect>\n",
    "      </crystal>\n",
    "      <species speciesfile=\"C.xml\">\n",
    "         <atom coord=\"0.00 0.00 0.00\" />\n",
    "         <atom coord=\"0.25 0.25 0.25\" />\n",
    "      </species>\n",
    "   </structure>\n",
    " \n",
    "   <groundstate \n",
    "      ngridk=\"4 4 4\"\n",
    "      rgkmax=\"5.0\"\n",
    "      xctype=\"GGA_PBE\">\n",
    "   </groundstate>\n",
    " \n",
    "</input>\n",
    "```\n",
    "The next step is writing the complete input as a string and saving it in your working directory as **input.xml**."
   ]
  },
  {
   "cell_type": "code",
   "execution_count": null,
   "metadata": {
    "pycharm": {
     "name": "#%%\n"
    }
   },
   "outputs": [],
   "source": [
    "from excitingjupyter.utilities import re_input\n",
    "\n",
    "# Convert markdown cell with input to string:\n",
    "notebook = \"tutorial_hybrid_functional_calculations.ipynb\"\n",
    "xml_str = re_input(notebook, \"Diamond PBE\")\n",
    "input_str_PBE = xml_str.replace(\"$EXCITINGROOT/species\", f\"{exciting_species}\")\n",
    "\n",
    "# Write out the input as an XML file:\n",
    "with open(os.path.join(os.getcwd(), 'run_tutorial_hybrid_functional_calculations/PBE/input.xml'), \"w\") as fid:\n",
    "    fid.write(input_str_PBE)"
   ]
  },
  {
   "cell_type": "markdown",
   "metadata": {
    "pycharm": {
     "name": "#%% md\n"
    }
   },
   "source": [
    "#### <span style=\"color:#15317E\">ii) Execute the Calculation</span>\n",
    "\n",
    "In order to run **exciting** from the terminal, you simply need to execute the **exciting_smp** binary in the running directory. After a few seconds, the calculation should be finished.\n",
    "\n",
    "Here we used the <code>time</code> command before **exciting_smp** in order to get, at the end of the run, the elapsed time explicitly written on the screen."
   ]
  },
  {
   "cell_type": "code",
   "execution_count": null,
   "metadata": {
    "pycharm": {
     "name": "#%%\n"
    }
   },
   "outputs": [],
   "source": [
    "%%bash\n",
    "cd run_tutorial_hybrid_functional_calculations/PBE\n",
    "# Set up environment. Note that this is platform-specific. With the Modules package you can e.g. use:\n",
    "module load intel\n",
    "time $EXCITINGROOT/bin/exciting_smp input.xml\n",
    "cd .."
   ]
  },
  {
   "cell_type": "markdown",
   "metadata": {
    "pycharm": {
     "name": "#%% md\n"
    }
   },
   "source": [
    "<a id='3'></a>\n",
    "<hr style=\"border:1px solid #DDD\"> </hr>\n",
    "\n",
    "### <span style=\"color:#15317E\">3. PBE0 Calculation</span>\n",
    "\n",
    "Now we can repeat the calculation by using hybrid functionals. We will start with the hybrid functional **PBE0**.\n",
    "\n",
    "#### <span style=\"color:#15317E\">i) Preparation of the Input File</span>\n",
    "\n",
    "To compute the ground state of diamond with the hybrid functional **PBE0** it is necessary to modify the <code><span style=\"color:green\">groundstate</span></code> <code><span style=\"color:green\">element</span></code> and, if you like, you can modify/adapt the content of the title element as in the example\n",
    "\n",
    "```xml\n",
    "<input>\n",
    " \n",
    "<title>Diamond PBE0</title>\n",
    " \n",
    "...   \n",
    " \n",
    "   <groundstate \n",
    "      ngridk=\"4 4 4\"\n",
    "      rgkmax=\"5.0\"\n",
    "      nempty=\"20\"\n",
    "      xctype=\"HYB_PBE0\">\n",
    "      <Hybrid  \n",
    "         excoeff=\"0.25\" />\n",
    "   </groundstate>\n",
    " \n",
    "</input>\n",
    "```\n",
    "The first thing to notice is the presence of the new element <code><span style=\"color:green\">Hybrid</span></code> inside the element <code><span style=\"color:green\">groundstate</span></code>. This element is not mandatory to perform calculations with hybrid functionals. If it is not included, all the parameters specified by the element <code><span style=\"color:green\">Hybrid</span></code> will be initialized with their default values. Moreover, by comparing the input with the input of PBE, we observe that in the example is specified the number of empty states (<code><span style=\"color:mediumblue\">nempty</span></code>), which is crucial for having convergent hybrids calculations.\n",
    "\n",
    "To the parameters introduced in the ground-state calculation with hybrid functionals will be discussed later. Before we do that, execute the calculation with **PBE0** and create the **HSE** input file."
   ]
  },
  {
   "cell_type": "code",
   "execution_count": null,
   "outputs": [],
   "source": [
    "%%bash\n",
    "cd run_tutorial_hybrid_functional_calculations\n",
    "mkdir PBE0\n",
    "cd .."
   ],
   "metadata": {
    "collapsed": false,
    "pycharm": {
     "name": "#%%\n"
    }
   }
  },
  {
   "cell_type": "code",
   "execution_count": null,
   "outputs": [],
   "source": [
    "input_str_PBE0 = input_str_PBE.replace('\"GGA_PBE\">','\"HYB_PBE0\"> <Hybrid excoeff=\"0.25\" />')\n",
    "\n",
    "with open(os.path.join(os.getcwd(), 'run_tutorial_hybrid_functional_calculations/PBE0/input.xml'), \"w\") as fid:\n",
    "    fid.write(input_str_PBE0)"
   ],
   "metadata": {
    "collapsed": false,
    "pycharm": {
     "name": "#%%\n"
    }
   }
  },
  {
   "cell_type": "markdown",
   "source": [
    "#### <span style=\"color:#15317E\">ii) Execute the Calculation</span>"
   ],
   "metadata": {
    "collapsed": false,
    "pycharm": {
     "name": "#%% md\n"
    }
   }
  },
  {
   "cell_type": "code",
   "execution_count": null,
   "outputs": [],
   "source": [
    "%%bash\n",
    "cd run_tutorial_hybrid_functional_calculations/PBE0\n",
    "module load intel\n",
    "time $EXCITINGROOT/bin/exciting_smp input.xml\n",
    "cd .."
   ],
   "metadata": {
    "collapsed": false,
    "pycharm": {
     "name": "#%%\n"
    }
   }
  },
  {
   "cell_type": "markdown",
   "source": [
    "<a id='4'></a>\n",
    "<hr style=\"border:1px solid #DDD\"> </hr>\n",
    "\n",
    "### <span style=\"color:#15317E\">4. HSE Calculation</span>\n",
    "\n",
    "Now we repeat everything using the hybrid functional **HSE**.\n",
    "\n",
    "#### <span style=\"color:#15317E\">i) Preparation of the Input File</span>\n",
    "\n",
    "Start by modifying again the <code><span style=\"color:green\">groundstate</span></code> element in the file **input.xml**, inside the directory **diamond-hybrids**, as in the example:\n",
    "\n",
    "```xml\n",
    "<input>\n",
    " \n",
    "<title>Diamond HSE</title>\n",
    " \n",
    "... \n",
    " \n",
    "   <groundstate \n",
    "      ngridk=\"4 4 4\"\n",
    "      rgkmax=\"5.0\"\n",
    "      nempty=\"20\"\n",
    "      xctype=\"HYB_HSE\">\n",
    "      <Hybrid \n",
    "         excoeff=\"0.25\" \n",
    "         omega=\"0.11\" />\n",
    "   </groundstate>\n",
    " \n",
    "</input>\n",
    "```"
   ],
   "metadata": {
    "collapsed": false,
    "pycharm": {
     "name": "#%% md\n"
    }
   }
  },
  {
   "cell_type": "code",
   "execution_count": null,
   "outputs": [],
   "source": [
    "%%bash\n",
    "cd run_tutorial_hybrid_functional_calculations\n",
    "mkdir HSE\n",
    "cd .."
   ],
   "metadata": {
    "collapsed": false,
    "pycharm": {
     "name": "#%%\n"
    }
   }
  },
  {
   "cell_type": "code",
   "execution_count": null,
   "metadata": {
    "pycharm": {
     "name": "#%%\n"
    }
   },
   "outputs": [],
   "source": [
    "input_str_HSE = input_str_PBE.replace('\"GGA_PBE\">','\"HYB_HSE\"><Hybrid  excoeff=\"0.25\" omega=\"0.11\" />')\n",
    "\n",
    "with open(os.path.join(os.getcwd(), 'run_tutorial_hybrid_functional_calculations/HSE/input.xml'), \"w\") as fid:\n",
    "    fid.write(input_str_HSE)"
   ]
  },
  {
   "cell_type": "markdown",
   "metadata": {
    "pycharm": {
     "name": "#%% md\n"
    }
   },
   "source": [
    "#### <span style=\"color:#15317E\">ii) Execute the Calculation</span>"
   ]
  },
  {
   "cell_type": "code",
   "execution_count": null,
   "metadata": {
    "pycharm": {
     "name": "#%%\n"
    }
   },
   "outputs": [],
   "source": [
    "%%bash\n",
    "cd run_tutorial_hybrid_functional_calculations/HSE\n",
    "module load intel\n",
    "time $EXCITINGROOT/bin/exciting_smp input.xml\n",
    "cd .."
   ]
  },
  {
   "cell_type": "markdown",
   "metadata": {
    "pycharm": {
     "name": "#%% md\n"
    }
   },
   "source": [
    "You have probably noticed, that the running time slightly increases when **HSE** is employed instead of **PBE0**. This can seem weird, since **HSE** is known for being faster. For a fix number of **k**-points this is not the case in **exciting**, due to the **LAPW+lo** basis. However, convergent **HSE** calculations are usually faster than convergent **PBE0** calculations, since the latter converge considerably slower with respect to the number of **k**-points."
   ]
  },
  {
   "cell_type": "markdown",
   "metadata": {
    "pycharm": {
     "name": "#%% md\n"
    }
   },
   "source": [
    "<hr style=\"border:1px solid #DDD\"> </hr>\n",
    "<details>\n",
    "    \n",
    "<summary><strong><span style=\"color:firebrick\">$\\Rightarrow$ Plot k-points convergence</span></strong></summary>\n",
    "\n",
    "These plots show the difference of the transition energies between Γ→Γ and Γ→X, computed with the **PBE**, **PBE0** and **HSE** xc-functionals, for different **k**-points grid. The reference calculation is computed for $N_k=10^3$. From this you can have a better understanding of the **k**-points convergence of the different functionals.\n",
    "<p></p>\n",
    "\n",
    "<div>\n",
    "<img src=\"tutorial_hybrid_functional_calculations_image/kpoints-conv.jpeg\" width=\"600\" align=\"left\"/>\n",
    "</div>\n",
    "\n",
    "<p></p>   \n",
    "\n",
    "To repeat the calculations with **PBE0** and **HSE**, for higher number of k-points, requires too much time for the purpose of this tutorial. You can try to reproduce these plots as an exercise.\n",
    "</details>\n",
    "\n",
    "<hr style=\"border:1px solid #DDD\"> </hr>"
   ]
  },
  {
   "cell_type": "markdown",
   "metadata": {
    "pycharm": {
     "name": "#%% md\n"
    }
   },
   "source": [
    "We can now have a closer look to the most relevant parameters in ground-state calculations with hybrid functionals.\n",
    "\n",
    "Parameter|Description\n",
    ":-----------|:--------------------------------\n",
    "<code><span style=\"color:mediumblue\">xctype</span></code>=**\"HYB_PBE0\"** or **\"HYB_HSE\"**  |The type of (hybrid) functional used needs to be specified in <code><span style=\"color:mediumblue\">xctype</span></code>. In **exciting** the hybrid functionals available are **PBE0** or **HSE** and the one shown are the respectively keywords.\n",
    "<code><span style=\"color:mediumblue\">nempty</span></code>=**\"20\"**|The number of empty states is crucial for the convergence and is dependent from <code><span style=\"color:mediumblue\">rgkmax</span></code>.\n",
    "<code><span style=\"color:mediumblue\">excoeff</span></code>=**\"0.25\"**|Keyword, inside the element <code><span style=\"color:green\">Hybrid</span></code>, for the mixing parameter $\\alpha$. The default value is 0.25. \n",
    "<code><span style=\"color:mediumblue\">omega</span></code>=**\"0.11\"**|Keyword, inside the element <code><span style=\"color:green\">Hybrid</span></code>, for to screening parameter $\\omega$ in units of $a_0^{-1}$ (only with **HSE**). The default value is 0.11 $a_0^{-1}$."
   ]
  },
  {
   "cell_type": "markdown",
   "metadata": {
    "pycharm": {
     "name": "#%% md\n"
    }
   },
   "source": [
    "For further details on the parameters see [**Input Reference**](http://exciting.wikidot.com/ref:input)."
   ]
  },
  {
   "cell_type": "markdown",
   "metadata": {
    "pycharm": {
     "name": "#%% md\n"
    }
   },
   "source": [
    "<a id='5'></a>\n",
    "<hr style=\"border:1px solid #DDD\"> </hr>\n",
    "\n",
    "### <span style=\"color:#15317E\">5. Post Processing</span>\n",
    "\n",
    "To observe some of the effects that the different functionals produce on the electronic structure, we compare the transition energies in specific high-symmetry points. Specifically, we will consider the following transition Γ→Γ and Γ→X.\n",
    "\n"
   ]
  },
  {
   "cell_type": "code",
   "execution_count": null,
   "metadata": {
    "pycharm": {
     "name": "#%%\n"
    }
   },
   "outputs": [],
   "source": [
    "from excitingtools.exciting_obj_parsers.eigenvalue_parser import parse_eigenvalues\n",
    "from excitingtools.dataclasses.data_structs import BandIndices\n",
    "import numpy as np\n",
    "from scipy.constants import physical_constants\n",
    "\n",
    "eigval_data_PBE= parse_eigenvalues(\"./run_tutorial_hybrid_functional_calculations/PBE/eigval.xml\")\n",
    "eigval_data_PBE0= parse_eigenvalues(\"./run_tutorial_hybrid_functional_calculations/PBE0/eigval.xml\")\n",
    "eigval_data_HSE= parse_eigenvalues(\"./run_tutorial_hybrid_functional_calculations/HSE/eigval.xml\")\n",
    "\n",
    "ha_to_ev = physical_constants[\"hartree-electron volt relationship\"][0]\n",
    "\n",
    "eigval_data_PBE.all_eigenvalues = eigval_data_PBE.all_eigenvalues * ha_to_ev\n",
    "eigval_data_PBE0.all_eigenvalues = eigval_data_PBE0.all_eigenvalues * ha_to_ev\n",
    "eigval_data_HSE.all_eigenvalues = eigval_data_HSE.all_eigenvalues * ha_to_ev"
   ]
  },
  {
   "cell_type": "code",
   "execution_count": null,
   "metadata": {
    "pycharm": {
     "name": "#%%\n"
    }
   },
   "outputs": [],
   "source": [
    "gamma = [0, 0, 0]\n",
    "X = [0.5, 0.5, 0]\n",
    "ik = eigval_data_PBE.k_points.index(gamma)\n",
    "jk = eigval_data_PBE.k_points.index(X)\n",
    "\n",
    "iVBM = np.where(eigval_data_PBE.occupations[ik] == 0)[0][0] # Account for band-indexing starting at 1\n",
    "jCBm = np.where(eigval_data_PBE.occupations[jk] == 0)[0][0] + 1\n",
    "iCBm = np.where(eigval_data_PBE.occupations[ik] == 0)[0][0] + 1\n",
    "\n",
    "gap_gamma_gamma_PBE = eigval_data_PBE.band_gap(BandIndices(iVBM, iCBm), k_indices=[ik + 1, ik + 1])\n",
    "gap_gamma_X_PBE = eigval_data_PBE.band_gap(BandIndices(iVBM, jCBm), k_indices=[ik + 1, jk + 1])\n",
    "\n",
    "gap_gamma_gamma_PBE0 = eigval_data_PBE0.band_gap(BandIndices(iVBM, iCBm), k_indices=[ik + 1, ik + 1])\n",
    "gap_gamma_X_PBE0 = eigval_data_PBE0.band_gap(BandIndices(iVBM, jCBm), k_indices=[ik + 1, jk + 1])\n",
    "\n",
    "gap_gamma_gamma_HSE = eigval_data_HSE.band_gap(BandIndices(iVBM, iCBm), k_indices=[ik + 1, ik + 1])\n",
    "gap_gamma_X_HSE = eigval_data_HSE.band_gap(BandIndices(iVBM, jCBm), k_indices=[ik + 1, jk + 1])"
   ]
  },
  {
   "cell_type": "code",
   "execution_count": null,
   "metadata": {
    "pycharm": {
     "name": "#%%\n"
    }
   },
   "outputs": [],
   "source": [
    "transition_energies = [[\"Gamma -> Gamma:\", gap_gamma_gamma_PBE, gap_gamma_gamma_PBE0, gap_gamma_gamma_HSE],\n",
    "                       [\"Gamma -> X:\", gap_gamma_X_PBE, gap_gamma_X_PBE0, gap_gamma_X_HSE]]\n",
    "\n",
    "print('Transition energies in eV: \\n')\n",
    "print (\"{:<20} {:<20} {:<20} {:<20}\".format('', 'PBE', 'PBE0', 'HSE'))\n",
    "for entry in transition_energies:\n",
    "    transition, pbe, pbe0, hse = entry\n",
    "    print (\"{:<20} {:<20} {:<20} {:<20}\".format(transition, pbe, pbe0, hse))"
   ]
  },
  {
   "cell_type": "markdown",
   "metadata": {
    "pycharm": {
     "name": "#%% md\n"
    }
   },
   "source": [
    "<a id='6'></a>\n",
    "<hr style=\"border:1px solid #DDD\"> </hr>\n",
    "\n",
    "### <span style=\"color:#15317E\">6. Band Structure and Density of States</span>\n",
    "\n",
    "When hybrids functionals are employed, to compute properties, such as band structure and density of states, the **Wannier-functions interpolation schema** needs to be adopted. To use the Wannier interpolation schema is not straightforward and therefore there is a tutorial dedicated [**Wannier Functions for Interpolation in Reciprocal Space**](http://exciting.wikidot.com/oxygen-wannier-functions).\n",
    "\n",
    "In the tutorials the properties are computed only for the hybrid functional **PBE0**, as exercise you can try to repeat the Wannier-functions tutorial for the hybrid functional **HSE**."
   ]
  },
  {
   "cell_type": "markdown",
   "metadata": {
    "pycharm": {
     "name": "#%% md\n"
    }
   },
   "source": [
    "<a id='7'></a>\n",
    "<hr style=\"border:1px solid #DDD\"> </hr>\n",
    "\n",
    "### <span style=\"color:#15317E\">7. Exercise</span>\n",
    "\n",
    "Try to modify some of the parameters such as <code><span style=\"color:mediumblue\">rgkmax</span></code>, <code><span style=\"color:mediumblue\">nempty</span></code> or <code><span style=\"color:mediumblue\">ngridk</span></code> in the input files. Remember that the optimal value of <code><span style=\"color:mediumblue\">nempty</span></code> depends on the value of <code><span style=\"color:mediumblue\">rgkmax</span></code>. For more complex systems <code><span style=\"color:mediumblue\">nempty</span></code> can be quite big.\n",
    "\n",
    "In order to get an hint about the maximum number of empty states that can be considered, use the following command.\n",
    "\n",
    "<div style=\"background-color: rgb(224, 224, 224);\">\n",
    "\n",
    "```bash\n",
    "grep \"Maximum Hamiltonian size\" INFO.OUT\n",
    "```\n",
    "\n",
    "</div>\n"
   ]
  },
  {
   "cell_type": "markdown",
   "metadata": {
    "pycharm": {
     "name": "#%% md\n"
    }
   },
   "source": [
    "<hr style=\"border:1px solid #DDD\"> </hr>\n",
    "\n",
    "### <span style=\"color:#15317E\">Literature</span>\n",
    "\n",
    "\n",
    "- C. Adamo and V. Barone, *J. Chem. Phys.* **110**, 6158, (1999)\n",
    "- M. Ernzerhof and G. E. Scuseria, *J. Chem. Phys.* **110**, 5029 (1999)\n",
    "- A. V. Krukau et al., *J. Chem. Phys.* **125**, 224106 (2006)\n",
    "- M. Schlipf et al., *Phys. Rev. B* **84**, 125142 (2011)\n",
    "\n",
    "<hr style=\"border:2px solid #DDD\"> </hr>"
   ]
  }
 ],
 "metadata": {
  "kernelspec": {
   "display_name": "excitingjupyter",
   "language": "python",
   "name": "excitingjupyter"
  },
  "language_info": {
   "codemirror_mode": {
    "name": "ipython",
    "version": 3
   },
   "file_extension": ".py",
   "mimetype": "text/x-python",
   "name": "python",
   "nbconvert_exporter": "python",
   "pygments_lexer": "ipython3",
   "version": "3.9.4"
  }
 },
 "nbformat": 4,
 "nbformat_minor": 1
}