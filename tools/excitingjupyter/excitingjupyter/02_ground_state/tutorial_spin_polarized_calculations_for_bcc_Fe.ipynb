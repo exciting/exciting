{
 "cells": [
  {
   "cell_type": "markdown",
   "metadata": {
    "pycharm": {
     "name": "#%% md\n"
    }
   },
   "source": [
    "# Spin-Polarized Calculations for bcc Fe\n",
    "**by <span style=\"color:darkgreen\">Dmitrii Nabok</span>, <span style=\"color:darkgreen\">Andris Gulans</span>, <span style=\"color:darkgreen\">Pasquale Pavone</span> & <span style=\"color:darkgreen\">Benedikt Maurer</span> for [<span style=\"color:DarkGoldenRod\">exciting *oxygen*</span>](http://exciting.wikidot.com/oxygen)**\n",
    "\n",
    "<font size=\"2\">(Jupyter notebook by <span style=\"color:darkgreen\">Mara Voiculescu</span>)</font>\n",
    "<hr style=\"border:2px solid #DDD\"> </hr>"
   ]
  },
  {
   "cell_type": "markdown",
   "metadata": {
    "pycharm": {
     "name": "#%% md\n"
    }
   },
   "source": [
    "**<span style=\"color:firebrick\">Purpose</span>**:  In this tutorial you will learn how to initialize and perform spin-polarized calculations. As an example, we calculate electronic ground-state properties of bcc-Fe with different types of magnetic order.\n",
    "<hr style=\"border:2px solid #DDD\"> </hr>"
   ]
  },
  {
   "cell_type": "markdown",
   "metadata": {
    "pycharm": {
     "name": "#%% md\n"
    }
   },
   "source": [
    "<div class=\"alert alert-block alert-warning\">\n",
    "\n",
    "**Table of Contents**\n",
    "\n",
    "[0. General Preparation](#0)\n",
    "\n",
    "[1. Unpolarized Ground State](#1)\n",
    "\n",
    "[2. Spin-Polarized Ground State](#2)\n",
    "\n",
    "[3. Anti-Ferromagnetic Phase](#3)\n",
    "\n",
    "[4. Restarting Magnetic Calculations](#4)\n",
    "\n",
    "[Exercises](#5)\n",
    "\n",
    "[Literature](#6)\n",
    "\n",
    "</div>"
   ]
  },
  {
   "cell_type": "markdown",
   "metadata": {
    "pycharm": {
     "name": "#%% md\n"
    }
   },
   "source": [
    "<a id='0'></a>\n",
    "<hr style=\"border:1px solid #DDD\"> </hr>\n",
    "\n",
    "### <span style=\"color:#15317E\">0. Before Starting</span>\n",
    "\n",
    "**<span style=\"color:firebrick\">Read the following paragraphs before starting with the rest of this tutorial!</span>**\n",
    "\n",
    "Before running any Jupyter tutorials, please refer to the **`00_before_starting.md`** document on how to correctly set up the environment. This only needs to be done once. After which, the **venv** can be (re)activated from exciting's root directory:\n",
    "\n",
    "<div style=\"background-color: rgb(224, 224, 224);\">\n",
    "\n",
    "```bash\n",
    "source tools/excitingjupyter/venv/excitingvenv/bin/activate\n",
    "```\n",
    "\n",
    "</div>\n",
    "\n",
    "As a first step, you may set the **exciting_root** directory and create a running directory for the notebook."
   ]
  },
  {
   "cell_type": "code",
   "execution_count": null,
   "metadata": {
    "ExecuteTime": {
     "end_time": "2022-11-03T15:59:53.829277Z",
     "start_time": "2022-11-03T15:59:53.811680Z"
    },
    "pycharm": {
     "name": "#%%\n"
    }
   },
   "outputs": [],
   "source": [
    "import os\n",
    "from excitingjupyter.utilities import get_exciting_root, check_for_binary\n",
    "\n",
    "exciting_root = get_exciting_root()\n",
    "check_for_binary(exciting_root)\n",
    "exciting_species = os.path.join(exciting_root, \"species\")\n",
    "print(exciting_root)"
   ]
  },
  {
   "cell_type": "code",
   "execution_count": null,
   "metadata": {
    "pycharm": {
     "name": "#%%\n"
    }
   },
   "outputs": [],
   "source": [
    "%%bash\n",
    "mkdir run_spin_tutorial"
   ]
  },
  {
   "cell_type": "markdown",
   "metadata": {
    "pycharm": {
     "name": "#%% md\n"
    }
   },
   "source": [
    "<a id='1'></a>\n",
    "<hr style=\"border:1px solid #DDD\"> </hr>\n",
    "\n",
    "### <span style=\"color:#15317E\">1. Unpolarized Ground State</span>\n",
    "\n",
    "The system on which we will focus is iron in the body-centered cubic phase. Therefore, inside the running directory create a new directory **noSPIN** for the unpolarized calculations."
   ]
  },
  {
   "cell_type": "code",
   "execution_count": null,
   "outputs": [],
   "source": [
    "%%bash\n",
    "cd run_spin_tutorial\n",
    "mkdir noSPIN\n",
    "cd .."
   ],
   "metadata": {
    "collapsed": false,
    "pycharm": {
     "name": "#%%\n"
    }
   }
  },
  {
   "cell_type": "markdown",
   "source": [
    "Let us first start from the spin-unpolarized case. Below is an example for the required input file (**input.xml**).\n",
    "\n",
    "```xml\n",
    "<input>\n",
    "\n",
    "   <title>Spin-unpolarized Fe-bcc</title>\n",
    "\n",
    "   <structure speciespath=\"$EXCITINGROOT/species\">\n",
    "      <crystal scale=\"5.200\">\n",
    "         <basevect> 0.5  0.5 -0.5</basevect>\n",
    "         <basevect> 0.5 -0.5  0.5</basevect>\n",
    "         <basevect>-0.5  0.5  0.5</basevect>\n",
    "      </crystal>\n",
    "      <species speciesfile=\"Fe.xml\" rmt=\"2.0\">\n",
    "         <atom coord=\"0.0 0.0 0.0\"/>\n",
    "      </species>\n",
    "   </structure>\n",
    "\n",
    "   <groundstate\n",
    "      do=\"fromscratch\"\n",
    "      xctype=\"GGA_PBE_SOL\"\n",
    "      rgkmax=\"8.0\"\n",
    "      ngridk=\"8 8 8\"\n",
    "      stype=\"Gaussian\"\n",
    "      swidth=\"0.01\"\n",
    "      nempty=\"10\">\n",
    "   </groundstate>\n",
    "\n",
    "   <properties>\n",
    "      <dos\n",
    "         nsmdos=\"2\"\n",
    "         ngrdos=\"300\"\n",
    "         nwdos=\"1000\"\n",
    "         winddos=\"-0.3 0.3\"/>\n",
    "      <bandstructure>\n",
    "         <plot1d>\n",
    "            <path steps=\"300\">\n",
    "               <point coord=\"0.0    0.0    0.0 \" label=\"Gamma\"/>\n",
    "               <point coord=\"0.5   -0.5    0.5 \" label=\"H\"/>\n",
    "               <point coord=\"0.0    0.0    0.5 \" label=\"N\"/>\n",
    "               <point coord=\"0.0    0.0    0.0 \" label=\"Gamma\"/>\n",
    "               <point coord=\"0.25   0.25   0.25\" label=\"P\"/>\n",
    "               <point coord=\"0.5   -0.5    0.5 \" label=\"H\"/>\n",
    "            </path>\n",
    "         </plot1d>\n",
    "      </bandstructure>\n",
    "   </properties>\n",
    "\n",
    "</input>\n",
    "```\n",
    "The next step is writing the complete input as a string and saving it in your working directory as **input.xml**."
   ],
   "metadata": {
    "collapsed": false,
    "pycharm": {
     "name": "#%% md\n"
    }
   }
  },
  {
   "cell_type": "code",
   "execution_count": null,
   "outputs": [],
   "source": [
    "from excitingjupyter.utilities import re_input\n",
    "\n",
    "# Convert markdown cell with input to string:\n",
    "notebook = \"tutorial_spin_polarized_calculations_for_bcc_Fe.ipynb\"\n",
    "xml_str = re_input(notebook, \"Spin-unpolarized Fe-bcc\")\n",
    "input_str = xml_str.replace(\"$EXCITINGROOT/species\", f\"{exciting_species}\")\n",
    "\n",
    "# Write out the input as an XML file:\n",
    "with open(os.path.join(os.getcwd(), 'run_spin_tutorial/noSPIN/input.xml'), \"w\") as fid:\n",
    "    fid.write(input_str)"
   ],
   "metadata": {
    "collapsed": false,
    "pycharm": {
     "name": "#%%\n"
    }
   }
  },
  {
   "cell_type": "markdown",
   "source": [
    "Let us look closer at this input file. In the <code><span style=\"color:green\">groundstate</span></code> element some attributes are explicitly given. Be aware that for time-saving reasons, here we have chosen computational parameters which do not correspond to those devised from convergence tests, although producing reasonable description of the system under consideration. Some of the attributes are known from other tutorials. The attributes <code><span style=\"color:mediumblue\">stype</span></code> and <code><span style=\"color:mediumblue\">swidth</span></code> are specified explicitly because they are relevant for metallic systems (see **[Input Reference](http://exciting.wikidot.com/ref:input)** for their definition). In fact, their choice is crucial when performing convergence tests with respect to the **k**-point number for metals. The meaning of the attribute <code><span style=\"color:mediumblue\">nempty</span></code> will be clear later when we initialize spin-polarized calculations.\n",
    "\n",
    "Furthermore, inside the input file you can find the element <code><span style=\"color:green\">properties</span></code> which contains the subelements <code><span style=\"color:green\">bandstructure</span></code> and <code><span style=\"color:green\">dos</span></code>. The presence of these two subelements allows for the calculation of the electronic band-structure and density of states, respectively (see **<span style=\"color:#3366BB\">Electronic band-structure and density of states</span>**)."
   ],
   "metadata": {
    "collapsed": false,
    "pycharm": {
     "name": "#%% md\n"
    }
   }
  },
  {
   "cell_type": "markdown",
   "source": [
    "In order to run **exciting**, you simply need to execute the **exciting_smp** binary in the subdirectory **noSPIN**. After a few seconds, the calculation should be finished. Here we used the <code>time</code> command before **exciting_smp** in order to get, at the end of the run, the elapsed time explicitly written on the screen."
   ],
   "metadata": {
    "collapsed": false,
    "pycharm": {
     "name": "#%% md\n"
    }
   }
  },
  {
   "cell_type": "code",
   "execution_count": null,
   "outputs": [],
   "source": [
    "%%bash\n",
    "cd run_spin_tutorial/noSPIN\n",
    "# Set up environment. Note that this is platform-specific. With the Modules package you can e.g. use:\n",
    "module load intel\n",
    "time $EXCITINGROOT/bin/exciting_smp input.xml\n",
    "cd ../.."
   ],
   "metadata": {
    "collapsed": false,
    "pycharm": {
     "name": "#%%\n"
    }
   }
  },
  {
   "cell_type": "markdown",
   "source": [
    "#### <span style=\"color:#15317E\">Plotting the DOS</span>\n",
    "\n",
    "To visualize the **DOS**, you can plot it inside the jupyter notebook. This can be done by parsing the **TDOS.OUT** output file by python."
   ],
   "metadata": {
    "collapsed": false,
    "pycharm": {
     "name": "#%% md\n"
    }
   }
  },
  {
   "cell_type": "code",
   "execution_count": null,
   "outputs": [],
   "source": [
    "from excitingtools.exciting_obj_parsers.gw_eigenvalues import parse_obj_gw_dos\n",
    "from scipy.constants import physical_constants\n",
    "\n",
    "dos_out = os.path.join(os.getcwd(), 'run_spin_tutorial/noSPIN/TDOS.OUT')\n",
    "dos_data = parse_obj_gw_dos(dos_out)\n",
    "\n",
    "ha_to_ev = physical_constants[\"hartree-electron volt relationship\"][0]\n",
    "dos_data.energy = dos_data.energy * ha_to_ev\n",
    "dos_data.dos = dos_data.dos / ha_to_ev"
   ],
   "metadata": {
    "collapsed": false,
    "pycharm": {
     "name": "#%%\n"
    }
   }
  },
  {
   "cell_type": "code",
   "execution_count": null,
   "outputs": [],
   "source": [
    "import matplotlib.pyplot as plt\n",
    "\n",
    "plt.figure(figsize=(8,5))\n",
    "plt.title(\"Spin-unpolarized Fe-bcc\", fontsize=18)\n",
    "plt.xlabel(\"Energy - $\\mathregular{E_F}$ [eV]\", fontsize=16)\n",
    "plt.ylabel(\"DOS [states/eV/unit cell]\", fontsize=16)\n",
    "\n",
    "plt.ylim([0, 4.5])\n",
    "plt.xlim([-8, 8])\n",
    "plt.xticks(fontsize=14)\n",
    "plt.yticks(fontsize=14)\n",
    "plt.tick_params(length=5,width=2)\n",
    "\n",
    "e_fermi = 0.0\n",
    "plt.axvline(x=e_fermi, color=\"black\", linestyle='--', linewidth=1.2)\n",
    "\n",
    "plt.rcParams[\"axes.linewidth\"] = 2\n",
    "\n",
    "plt.plot(dos_data.energy, dos_data.dos, color=\"mediumblue\")\n",
    "plt.fill_between(dos_data.energy, 0, dos_data.dos, color=\"cornflowerblue\")\n",
    "\n",
    "plt.show()"
   ],
   "metadata": {
    "collapsed": false,
    "pycharm": {
     "name": "#%%\n"
    }
   }
  },
  {
   "cell_type": "markdown",
   "source": [
    "#### <span style=\"color:#15317E\">Plotting the Band Structure</span>\n",
    "\n",
    "Similarly to the case of the DOS, the band structure can also be plotted inside the jupyter notebook by parsing the **bandstructure.xml** output file:"
   ],
   "metadata": {
    "collapsed": false,
    "pycharm": {
     "name": "#%% md\n"
    }
   }
  },
  {
   "cell_type": "code",
   "execution_count": null,
   "outputs": [],
   "source": [
    "from excitingtools.exciting_obj_parsers.ks_band_structure import parse_band_structure\n",
    "\n",
    "bandstructure_xml = os.path.join(os.getcwd(), 'run_spin_tutorial/noSPIN/bandstructure.xml')\n",
    "band_data = parse_band_structure(bandstructure_xml)\n",
    "\n",
    "band_data.bands = band_data.bands * ha_to_ev\n",
    "band_data.e_fermi = 0.0\n",
    "vertices, labels = band_data.band_path()"
   ],
   "metadata": {
    "collapsed": false,
    "pycharm": {
     "name": "#%%\n"
    }
   }
  },
  {
   "cell_type": "code",
   "execution_count": null,
   "outputs": [],
   "source": [
    "plt.figure(figsize=(8,5))\n",
    "plt.title(\"Spin-unpolarized Fe-bcc\", fontsize=18)\n",
    "plt.ylabel(\"Energy - $\\mathregular{E_F}$ [eV]\", fontsize=16)\n",
    "plt.ylim([-10, 40])\n",
    "plt.xlim([vertices[0], vertices[-1]])\n",
    "\n",
    "plt.xticks(ticks=vertices, labels=labels, fontsize=16)\n",
    "plt.yticks(fontsize=14)\n",
    "plt.tick_params(length=5,width=2)\n",
    "\n",
    "plt.axhline(y=band_data.e_fermi, color=\"black\", linestyle='--', linewidth=1.2)\n",
    "\n",
    "for i in range(len(band_data.vertices)):\n",
    "    plt.axvline(x=vertices[i], color=\"black\", linewidth=1)\n",
    "\n",
    "plt.rcParams[\"axes.linewidth\"] = 2\n",
    "\n",
    "plt.text(5.1, -0.6, \"$\\mathregular{E_F}$\", fontsize=16)\n",
    "\n",
    "plt.plot(band_data.flattened_k_points, band_data.bands, color=\"mediumblue\")\n",
    "\n",
    "plt.show()"
   ],
   "metadata": {
    "collapsed": false,
    "pycharm": {
     "name": "#%%\n"
    }
   }
  },
  {
   "cell_type": "markdown",
   "source": [
    "<a id='2'></a>\n",
    "<hr style=\"border:1px solid #DDD\"> </hr>\n",
    "\n",
    "### <span style=\"color:#15317E\">2. Spin-Polarized Ground State</span>\n",
    "\n",
    "In the previous example the spin of the electrons is not taken into account. However, it is well known that iron is a magnetic material. In this kind of materials spin up electrons behave differently from spin down ones. In this section you will learn how to include spin degrees of freedom in **exciting** calculations.\n",
    "\n",
    "You may start by creating a subdirectory **SPIN** in which you will run the calculation."
   ],
   "metadata": {
    "collapsed": false,
    "pycharm": {
     "name": "#%% md\n"
    }
   }
  },
  {
   "cell_type": "code",
   "execution_count": null,
   "outputs": [],
   "source": [
    "%%bash\n",
    "cd run_spin_tutorial\n",
    "mkdir SPIN\n",
    "cd .."
   ],
   "metadata": {
    "collapsed": false,
    "pycharm": {
     "name": "#%%\n"
    }
   }
  },
  {
   "cell_type": "markdown",
   "source": [
    "The next step is to modify the input file input.xml for making it suitable for spin-polarized calculations and to save it in the subdirectory **SPIN**. First of all, you may want to change the label of the calculation using\n",
    "\n",
    "```xml\n",
    "...\n",
    "   <title>Spin-polarized Fe-bcc</title>\n",
    "...\n",
    "```\n",
    "The main change is the inclusion of the element <code><span style=\"color:green\">spin</span></code> inside the <code><span style=\"color:green\">groundstate</span></code> element.\n",
    "\n",
    "```xml\n",
    "...\n",
    "   <groundstate \n",
    "      do=\"fromscratch\"\n",
    "      xctype=\"GGA_PBE_SOL\"\n",
    "      rgkmax=\"8.0\"    \n",
    "      ngridk=\"8 8 8\"\n",
    "      stype=\"Gaussian\"\n",
    "      swidth=\"0.01\"\n",
    "      nempty=\"10\">\n",
    " \n",
    "      <spin \n",
    "         bfieldc=\"0.0 0.0 -4.0\" \n",
    "         reducebf=\"0.5\"\n",
    "         spinorb=\"false\">\n",
    "      </spin>\n",
    " \n",
    "   </groundstate>\n",
    "...\n",
    "```"
   ],
   "metadata": {
    "collapsed": false,
    "pycharm": {
     "name": "#%% md\n"
    }
   }
  },
  {
   "cell_type": "code",
   "execution_count": null,
   "outputs": [],
   "source": [
    "spin_str = \"\"\"\n",
    "      <spin \n",
    "         bfieldc=\"0.0 0.0 -4.0\" \n",
    "         reducebf=\"0.5\"\n",
    "         spinorb=\"false\">\n",
    "      </spin>\n",
    "\n",
    "   </groundstate>\n",
    "\"\"\"\n",
    "\n",
    "input_str_spin = input_str.replace('</groundstate>', spin_str)\n",
    "input_str_spin = input_str_spin.replace('<title>Spin-unpolarized Fe-bcc</title>', ' <title>Spin-polarized Fe-bcc</title>')\n",
    "\n",
    "with open(os.path.join(os.getcwd(), 'run_spin_tutorial/SPIN/input.xml'), \"w\") as fid:\n",
    "    fid.write(input_str_spin)"
   ],
   "metadata": {
    "collapsed": false,
    "pycharm": {
     "name": "#%%\n"
    }
   }
  },
  {
   "cell_type": "markdown",
   "source": [
    "The presence of the <code><span style=\"color:green\">spin</span></code> element will tell to **exciting** to initialize the spin-polarized calculations. The relevant attributes of the <code><span style=\"color:green\">spin</span></code> element are described in the following Table.\n",
    "\n",
    "Attribute|Description\n",
    ":-----------|:--------------------------------\n",
    "<code><span style=\"color:mediumblue\">bfieldc</span></code>|Specifies the cartesian coordinates of the external magnetic field required in spin-polarized calculations to break spin symmetry. In case of collinear magnetism, it is important to note that the preferable direction of the magnetic field should be selected along the z-axis (the axis of the spin quantization). Another important notice is that the amplitude of this field may play a crucial role to converge the system to the state with the right magnetic moment. Thus, as in the case of bulk iron, one has to specify rather high value of the field to obtain the magnetic state.\n",
    "<code><span style=\"color:mediumblue\">reducebf</span></code>|If one searches the ground state in absence of magnetic field, this attribute specifies which portion of the starting field is acting at each step during the self-consistent cycle (see more in **[Input Reference](http://exciting.wikidot.com/ref:input)**).\n",
    "<code><span style=\"color:mediumblue\">spinorb</span></code>|Should be set to **\"true\"** to include the spin-orbit coupling (**\"false\"** by default)."
   ],
   "metadata": {
    "collapsed": false,
    "pycharm": {
     "name": "#%% md\n"
    }
   }
  },
  {
   "cell_type": "markdown",
   "source": [
    "The way in which **exciting** deals with spin-polarized systems (the so-called \"*second-variational approach*\", described, e.g., in **<span style=\"color:firebrick\">Singh-2006</span>**) requires also the explicit specification in the input of the attribute <code><span style=\"color:mediumblue\">nempty</span></code> inside the <code><span style=\"color:green\">groundstate</span></code> element.\n",
    "\n",
    "Attribute|Description\n",
    ":-----------|:--------------------------------\n",
    "<code><span style=\"color:mediumblue\">nempty</span></code>|Determines the size of the \"*second-variational*\" Hamiltonian. The optimized value should be chosen on the basis of a convergence test."
   ],
   "metadata": {
    "collapsed": false,
    "pycharm": {
     "name": "#%% md\n"
    }
   }
  },
  {
   "cell_type": "markdown",
   "source": [
    "As before, you may run the calculation by executin the **exciting_smp** binary in the subdirectory **SPIN**."
   ],
   "metadata": {
    "collapsed": false,
    "pycharm": {
     "name": "#%% md\n"
    }
   }
  },
  {
   "cell_type": "code",
   "execution_count": null,
   "outputs": [],
   "source": [
    "%%bash\n",
    "cd run_spin_tutorial/SPIN\n",
    "module load intel\n",
    "time $EXCITINGROOT/bin/exciting_smp input.xml\n",
    "cd ../.."
   ],
   "metadata": {
    "collapsed": false,
    "pycharm": {
     "name": "#%%\n"
    }
   }
  },
  {
   "cell_type": "markdown",
   "source": [
    "The main output file INFO.OUT contains information on the magnetic moments of the spin-polarized phase. These moments are written at each iteration. The values of the magnetic moments at the last SCF cycle should look like the following.\n",
    "\n",
    "```\n",
    "...\n",
    "Moments :\n",
    "     interstitial                           :        -0.00911718\n",
    "     moment in muffin-tin spheres :\n",
    "                  atom     1    Fe          :         1.98008333\n",
    "     total moment in muffin-tins            :         1.98008333\n",
    "     total moment                           :         1.97096615\n",
    "```\n",
    "Furthermore, you can visualize the new electronic band-structure and density of states by proceeding as for the spin-unpolarized case."
   ],
   "metadata": {
    "collapsed": false,
    "pycharm": {
     "name": "#%% md\n"
    }
   }
  },
  {
   "cell_type": "code",
   "execution_count": null,
   "outputs": [],
   "source": [
    "import numpy as np\n",
    "\n",
    "dos_out = os.path.join(os.getcwd(), 'run_spin_tutorial/SPIN/TDOS.OUT')\n",
    "dos_data = parse_obj_gw_dos(dos_out)\n",
    "\n",
    "dos_data.energy = dos_data.energy * ha_to_ev\n",
    "dos_data.dos = dos_data.dos / ha_to_ev\n",
    "\n",
    "dos_spin_up = dos_data.dos[dos_data.dos >= 0]\n",
    "dos_spin_down = dos_data.dos[dos_data.dos < 0]\n",
    "\n",
    "energy_spin_up = np.split(dos_data.energy,2)[0]\n",
    "energy_spin_down = np.split(dos_data.energy,2)[1]"
   ],
   "metadata": {
    "collapsed": false,
    "pycharm": {
     "name": "#%%\n"
    }
   }
  },
  {
   "cell_type": "code",
   "execution_count": null,
   "outputs": [],
   "source": [
    "plt.figure(figsize=(8,5))\n",
    "plt.title(\"Spin-polarized Fe-bcc\", fontsize=18)\n",
    "plt.xlabel(\"Energy - $\\mathregular{E_F}$ [eV]\", fontsize=16)\n",
    "plt.ylabel(\"DOS [states/eV/unit cell]\", fontsize=16)\n",
    "\n",
    "plt.ylim([-3.5, 3.5])\n",
    "plt.xlim([-8, 8])\n",
    "plt.xticks(fontsize=14)\n",
    "plt.yticks(fontsize=14)\n",
    "plt.tick_params(length=5,width=2)\n",
    "\n",
    "e_fermi = 0.0\n",
    "plt.axvline(x=e_fermi, color=\"black\", linestyle='--', linewidth=1.2)\n",
    "\n",
    "plt.rcParams[\"axes.linewidth\"] = 2\n",
    "plt.axhline(y=0.0, color=\"black\", linewidth=2)\n",
    "\n",
    "plot1 = plt.plot(energy_spin_up, dos_spin_up, color=\"mediumblue\")\n",
    "plt.fill_between(energy_spin_up, 0, dos_spin_up, color=\"cornflowerblue\")\n",
    "plot2 = plt.plot(energy_spin_down, dos_spin_down, color=\"mediumblue\")\n",
    "plt.fill_between(energy_spin_down, 0, dos_spin_down, color=\"#a2bff4\")\n",
    "\n",
    "plt.text(6, 2.7, r'spin$\\uparrow$', fontsize=14, bbox={'facecolor': 'yellow', 'alpha': 0.15, 'pad': 4})\n",
    "plt.text(6, -2.7, r'spin$\\downarrow$', fontsize=14, bbox={'facecolor': 'yellow', 'alpha': 0.15, 'pad': 4})\n",
    "\n",
    "plt.show()"
   ],
   "metadata": {
    "collapsed": false,
    "pycharm": {
     "name": "#%%\n"
    }
   }
  },
  {
   "cell_type": "code",
   "execution_count": null,
   "outputs": [],
   "source": [
    "bandstructure_xml = os.path.join(os.getcwd(), 'run_spin_tutorial/SPIN/bandstructure.xml')\n",
    "band_data = parse_band_structure(bandstructure_xml)\n",
    "\n",
    "band_data.bands = band_data.bands * ha_to_ev\n",
    "band_data.e_fermi = 0.0\n",
    "vertices, labels = band_data.band_path()"
   ],
   "metadata": {
    "collapsed": false,
    "pycharm": {
     "name": "#%%\n"
    }
   }
  },
  {
   "cell_type": "code",
   "execution_count": null,
   "outputs": [],
   "source": [
    "from matplotlib.lines import Line2D\n",
    "\n",
    "plt.figure(figsize=(8,5))\n",
    "plt.title(\"Spin-polarized Fe-bcc\", fontsize=18)\n",
    "plt.ylabel(\"Energy - $\\mathregular{E_F}$ [eV]\", fontsize=16)\n",
    "plt.ylim([-10, 40])\n",
    "plt.xlim([vertices[0], vertices[-1]])\n",
    "\n",
    "plt.xticks(ticks=vertices, labels=labels, fontsize=16)\n",
    "plt.yticks(fontsize=14)\n",
    "plt.tick_params(length=5,width=2)\n",
    "\n",
    "plt.axhline(y=band_data.e_fermi, color=\"black\", linestyle='--', linewidth=1.2)\n",
    "\n",
    "for i in range(len(band_data.vertices)):\n",
    "    plt.axvline(x=vertices[i], color=\"black\", linewidth=1)\n",
    "\n",
    "plt.rcParams[\"axes.linewidth\"] = 2\n",
    "\n",
    "plt.text(5.1, -0.6, \"$\\mathregular{E_F}$\", fontsize=16)\n",
    "\n",
    "plt.plot(band_data.flattened_k_points, band_data.bands[:, :int(band_data.n_bands/2)], color=\"mediumblue\")\n",
    "plt.plot(band_data.flattened_k_points, band_data.bands[:, int(band_data.n_bands/2):], color=\"#6699cc\")\n",
    "\n",
    "\n",
    "LDA_label = Line2D([0], [0], label=r'SPIN$\\uparrow$', color='mediumblue')\n",
    "EXX_label = Line2D([0], [0], label=r'SPIN$\\downarrow$', color='#6699cc')\n",
    "plt.legend(handles=[LDA_label,EXX_label], loc=(0,0.35))\n",
    "\n",
    "plt.show()"
   ],
   "metadata": {
    "collapsed": false,
    "pycharm": {
     "name": "#%%\n"
    }
   }
  },
  {
   "cell_type": "markdown",
   "source": [
    "As you can see the main difference with the spin-unpolarized case is now the explicit distinction between electrons with spin up and spin down."
   ],
   "metadata": {
    "collapsed": false,
    "pycharm": {
     "name": "#%% md\n"
    }
   }
  },
  {
   "cell_type": "markdown",
   "source": [
    "<a id='3'></a>\n",
    "<hr style=\"border:1px solid #DDD\"> </hr>\n",
    "\n",
    "### <span style=\"color:#15317E\">3. Anti-Ferromagnetic Phase</span>"
   ],
   "metadata": {
    "collapsed": false,
    "pycharm": {
     "name": "#%% md\n"
    }
   }
  },
  {
   "cell_type": "markdown",
   "source": [
    "Now we will learn how to initialize calculations for materials with anti-ferromagnetic (**AFM**) type of spin ordering. As an example, we consider a hypothetical **AFM** phase of bcc iron. In oder to realize the anti-ferromagnetic order, we need at least two nonequivalent atoms per cell. To do this with we simply apply the (standard) definition of the bcc lattice as a simple cubic (**SC**) lattice with a basis consisting of two atoms.\n",
    "\n",
    "Let us now create a **<span style=\"color:firebrick\">new</span>** input file **input.xml** in a new subdirectory **AFM**. The file should contain the following the following lines, corresponding to the hypothetical AFM phase of bcc Fe.\n",
    "\n",
    "```xml\n",
    "<input>\n",
    " \n",
    "   <title>Anti-ferromagnetic Fe-bcc</title>\n",
    " \n",
    "   <structure speciespath=\"$EXCITINGROOT/species\">\n",
    "      <crystal scale=\"5.200\">\n",
    "         <basevect> 1.0  0.0  0.0</basevect>\n",
    "         <basevect> 0.0  1.0  0.0</basevect>\n",
    "         <basevect> 0.0  0.0  1.0</basevect>\n",
    "      </crystal>\n",
    "      <species speciesfile=\"Fe.xml\" rmt=\"2.0\">\n",
    "         <atom coord=\"0.00000 0.00000 0.00000\" bfcmt=\"0.0 0.0  2.0\"/>\n",
    "         <atom coord=\"0.50001 0.50001 0.50001\" bfcmt=\"0.0 0.0 -2.0\"/>\n",
    "      </species>\n",
    "   </structure>\n",
    " \n",
    "   <groundstate\n",
    "      do=\"fromscratch\"\n",
    "      xctype=\"GGA_PBE_SOL\"\n",
    "      rgkmax=\"8.0\"    \n",
    "      ngridk=\"6 6 6\"\n",
    "      stype=\"Gaussian\"\n",
    "      swidth=\"0.01\"\n",
    "      nempty=\"20\"\n",
    "      epsengy=\"5.d-6\"\n",
    "      niterconvcheck=\"1\"> \n",
    " \n",
    "      <spin/>\n",
    " \n",
    "   </groundstate>\n",
    " \n",
    "   <properties>\n",
    "       <dos\n",
    "         nsmdos=\"2\"\n",
    "         ngrdos=\"300\"\n",
    "         nwdos=\"1000\"\n",
    "         winddos=\"-0.3 0.3\"/>\n",
    "      <bandstructure>\n",
    "         <plot1d>\n",
    "            <path steps=\"300\">\n",
    "               <point coord=\"0.0  0.0  0.0\" label=\"Gamma\"/>\n",
    "               <point coord=\"0.0  0.5  0.0\" label=\"X\"/>\n",
    "               <point coord=\"0.5  0.5  0.0\" label=\"M\"/>\n",
    "               <point coord=\"0.0  0.0  0.0\" label=\"Gamma\"/>\n",
    "               <point coord=\"0.5  0.5  0.5\" label=\"R\"/>\n",
    "               <point coord=\"0.0  0.5  0.0\" label=\"X\"/>\n",
    "            </path>\n",
    "         </plot1d>\n",
    "      </bandstructure>\n",
    "   </properties>\n",
    " \n",
    "</input>\n",
    "```"
   ],
   "metadata": {
    "collapsed": false,
    "pycharm": {
     "name": "#%% md\n"
    }
   }
  },
  {
   "cell_type": "code",
   "execution_count": null,
   "outputs": [],
   "source": [
    "%%bash\n",
    "cd run_spin_tutorial\n",
    "mkdir AFM\n",
    "cd .."
   ],
   "metadata": {
    "collapsed": false,
    "pycharm": {
     "name": "#%%\n"
    }
   }
  },
  {
   "cell_type": "code",
   "execution_count": null,
   "outputs": [],
   "source": [
    "xml_str = re_input(notebook, \"Anti-ferromagnetic Fe-bcc\")\n",
    "input_str = xml_str.replace(\"$EXCITINGROOT/species\", f\"{exciting_species}\")\n",
    "\n",
    "# Write out the input as an XML file:\n",
    "with open(os.path.join(os.getcwd(), 'run_spin_tutorial/AFM/input.xml'), \"w\") as fid:\n",
    "    fid.write(input_str)"
   ],
   "metadata": {
    "collapsed": false,
    "pycharm": {
     "name": "#%%\n"
    }
   }
  },
  {
   "cell_type": "markdown",
   "source": [
    "Here, the relevant difference with respect to the other calculations is the presence of the additional attribute <code><span style=\"color:mediumblue\">bfcmt</span></code> inside the <code><span style=\"color:green\">atom</span></code> element. This attribute plays a similar role as the attribute <code><span style=\"color:mediumblue\">bfieldc</span></code> but only inducing the local atomic (muffin-tin) magnetic moment. The presence of this magnetic moment breaks the symmetry of the crystal and make the two basis atoms indeed nonequivalent. Since in this example we do not desire any external magnetic field or spin-orbit coupling, we can skip the explicit specification of the attributes inside the <code><span style=\"color:green\">spin</span></code> element, keeping them to the default values.\n",
    "\n",
    "Notice also that the path for the electronic band-structure in this example corresponds to the simple cubic supercell.\n",
    "\n",
    "Following the steps as in the previous sections, we can calculate the total energy of the system and the local atomic magnetic moments."
   ],
   "metadata": {
    "collapsed": false,
    "pycharm": {
     "name": "#%% md\n"
    }
   }
  },
  {
   "cell_type": "code",
   "execution_count": null,
   "outputs": [],
   "source": [
    "%%bash\n",
    "cd run_spin_tutorial/AFM\n",
    "module load intel\n",
    "time $EXCITINGROOT/bin/exciting_smp input.xml\n",
    "cd ../.."
   ],
   "metadata": {
    "collapsed": false,
    "pycharm": {
     "name": "#%%\n"
    }
   }
  },
  {
   "cell_type": "markdown",
   "source": [
    "Once the run is finished, proceed as in the other sections to visualize the density of states."
   ],
   "metadata": {
    "collapsed": false,
    "pycharm": {
     "name": "#%% md\n"
    }
   }
  },
  {
   "cell_type": "code",
   "execution_count": null,
   "outputs": [],
   "source": [
    "dos_out = os.path.join(os.getcwd(), 'run_spin_tutorial/AFM/TDOS.OUT')\n",
    "dos_data = parse_obj_gw_dos(dos_out)\n",
    "\n",
    "dos_data.energy = dos_data.energy * ha_to_ev\n",
    "dos_data.dos = dos_data.dos / ha_to_ev\n",
    "\n",
    "dos_spin_up = dos_data.dos[dos_data.dos >= 0]\n",
    "dos_spin_down = dos_data.dos[dos_data.dos < 0]\n",
    "\n",
    "energy_spin_up = np.split(dos_data.energy,2)[0]\n",
    "energy_spin_down = np.split(dos_data.energy,2)[1]"
   ],
   "metadata": {
    "collapsed": false,
    "pycharm": {
     "name": "#%%\n"
    }
   }
  },
  {
   "cell_type": "code",
   "execution_count": null,
   "outputs": [],
   "source": [
    "plt.figure(figsize=(8,5))\n",
    "plt.title(\"Anti-ferromagnetic Fe-bcc\", fontsize=18)\n",
    "plt.xlabel(\"Energy - $\\mathregular{E_F}$ [eV]\", fontsize=16)\n",
    "plt.ylabel(\"DOS [states/eV/unit cell]\", fontsize=16)\n",
    "\n",
    "plt.ylim([-3.5, 3.5])\n",
    "plt.xlim([-8, 8])\n",
    "plt.xticks(fontsize=14)\n",
    "plt.yticks(fontsize=14)\n",
    "plt.tick_params(length=5,width=2)\n",
    "\n",
    "e_fermi = 0.0\n",
    "plt.axvline(x=e_fermi, color=\"black\", linestyle='--', linewidth=1.2)\n",
    "\n",
    "plt.rcParams[\"axes.linewidth\"] = 2\n",
    "plt.axhline(y=0.0, color=\"black\", linewidth=2)\n",
    "\n",
    "plot1 = plt.plot(energy_spin_up, dos_spin_up, color=\"mediumblue\")\n",
    "plt.fill_between(energy_spin_up, 0, dos_spin_up, color=\"cornflowerblue\")\n",
    "plot2 = plt.plot(energy_spin_down, dos_spin_down, color=\"mediumblue\")\n",
    "plt.fill_between(energy_spin_down, 0, dos_spin_down, color=\"#a2bff4\")\n",
    "\n",
    "plt.text(6, 2.7, r'spin$\\uparrow$', fontsize=14, bbox={'facecolor': 'yellow', 'alpha': 0.15, 'pad': 4})\n",
    "plt.text(6, -2.7, r'spin$\\downarrow$', fontsize=14, bbox={'facecolor': 'yellow', 'alpha': 0.15, 'pad': 4})\n",
    "plt.show()"
   ],
   "metadata": {
    "collapsed": false,
    "pycharm": {
     "name": "#%%\n"
    }
   }
  },
  {
   "cell_type": "markdown",
   "source": [
    "The electronic band-structure can be obtained as follows."
   ],
   "metadata": {
    "collapsed": false,
    "pycharm": {
     "name": "#%% md\n"
    }
   }
  },
  {
   "cell_type": "code",
   "execution_count": null,
   "outputs": [],
   "source": [
    "bandstructure_xml = os.path.join(os.getcwd(), 'run_spin_tutorial/AFM/bandstructure.xml')\n",
    "band_data = parse_band_structure(bandstructure_xml)\n",
    "\n",
    "band_data.bands = band_data.bands * ha_to_ev\n",
    "band_data.e_fermi = 0.0\n",
    "vertices, labels = band_data.band_path()"
   ],
   "metadata": {
    "collapsed": false,
    "pycharm": {
     "name": "#%%\n"
    }
   }
  },
  {
   "cell_type": "code",
   "execution_count": null,
   "outputs": [],
   "source": [
    "plt.figure(figsize=(8,5))\n",
    "plt.title(\"Anti-ferromagnetic Fe-bcc\", fontsize=18)\n",
    "plt.ylabel(\"Energy - $\\mathregular{E_F}$ [eV]\", fontsize=16)\n",
    "plt.ylim([-10, 40])\n",
    "plt.xlim([vertices[0], vertices[-1]])\n",
    "\n",
    "plt.xticks(ticks=vertices, labels=labels, fontsize=16)\n",
    "plt.yticks(fontsize=14)\n",
    "plt.tick_params(length=5,width=2)\n",
    "\n",
    "plt.axhline(y=band_data.e_fermi, color=\"black\", linestyle='--', linewidth=1.2)\n",
    "\n",
    "for i in range(len(band_data.vertices)):\n",
    "    plt.axvline(x=vertices[i], color=\"black\", linewidth=1)\n",
    "\n",
    "plt.rcParams[\"axes.linewidth\"] = 2\n",
    "\n",
    "plt.text(4, -0.6, \"$\\mathregular{E_F}$\", fontsize=16)\n",
    "\n",
    "plt.plot(band_data.flattened_k_points, band_data.bands[:, int(band_data.n_bands/2):], color=\"#6699cc\")\n",
    "plt.plot(band_data.flattened_k_points, band_data.bands[:, :int(band_data.n_bands/2)], color=\"mediumblue\")\n",
    "\n",
    "\n",
    "spin_up_label = Line2D([0], [0], label=r'SPIN$\\uparrow$', color='mediumblue')\n",
    "spin_down_label = Line2D([0], [0], label=r'SPIN$\\downarrow$', color='#6699cc')\n",
    "plt.legend(handles=[LDA_label,EXX_label], loc=(0,0.35))\n",
    "\n",
    "plt.show()"
   ],
   "metadata": {
    "collapsed": false,
    "pycharm": {
     "name": "#%%\n"
    }
   }
  },
  {
   "cell_type": "markdown",
   "source": [
    "Here, you can notice that, due to the symmetry of the anti-ferromagnetic phase, both the **DOS** and the electronic band-structures corresponding to the two spins (up and down) are identical."
   ],
   "metadata": {
    "collapsed": false,
    "pycharm": {
     "name": "#%% md\n"
    }
   }
  },
  {
   "cell_type": "markdown",
   "source": [
    "<a id='4'></a>\n",
    "<hr style=\"border:1px solid #DDD\"> </hr>\n",
    "\n",
    "### <span style=\"color:#15317E\">4. Restarting Magnetic Calculations</span>"
   ],
   "metadata": {
    "collapsed": false,
    "pycharm": {
     "name": "#%% md\n"
    }
   }
  },
  {
   "cell_type": "markdown",
   "source": [
    "It is possible to restart a magnetic calculation using a previously saved potential in **STATE.OUT** as the initial guess. To do so, you have to specify the following attribute in the element <code><span style=\"color:green\">groundstate</span></code>:\n",
    "\n",
    "```xml\n",
    "   <groundstate\n",
    "      do=\"fromfile\"\n",
    "      ...>\n",
    "   </groundstate>\n",
    "```\n",
    "\n",
    "The previous spin-polarized calculations in this tutorial have relied on the initial magnetic field to make sure that the self-consistent procedure converges to a spin-polarized solution. But you do not need this trick for a restarted calculation, because **STATE.OUT** contains an initial potential that is already close to a self-consistent one. You should not set the initial field exactly to **<span style=\"color:firebrick\">0</span>**, because it will trigger a non-magnetic calculation. Instead, you can set it a small value, such as **<span style=\"color:firebrick\">1d-6</span>**. In the calculation with spin-polarized iron, you would have to modify the input given in the **<span style=\"color:firebrick\">Section 2</span>** as follows:\n",
    "\n",
    "```xml\n",
    "   <spin \n",
    "         bfieldc=\"0.0 0.0 -1d-6\"\n",
    "         reducebf=\"0.5\"\n",
    "         spinorb=\"false\">\n",
    "      </spin>\n",
    "```\n",
    "\n",
    "In the anti-ferromagnetic case, make the following changes:\n",
    "\n",
    "```xml\n",
    "      <species speciesfile=\"Fe.xml\" rmt=\"2.0\">\n",
    "         <atom coord=\"0.00000 0.00000 0.00000\" bfcmt=\"0.0 0.0  1d-6\"/>\n",
    "         <atom coord=\"0.50001 0.50001 0.50001\" bfcmt=\"0.0 0.0 -1d-6\"/>\n",
    "      </species>\n",
    "```\n",
    "\n",
    "If you repeat an already converged calculation using this restart option, you will able to reach self-consistence in 4 steps. But it will take more of them if you change some other parameters (for example, <code><span style=\"color:mediumblue\">rgkmax</span></code>, <code><span style=\"color:mediumblue\">ngrik</span></code>) before the restart."
   ],
   "metadata": {
    "collapsed": false,
    "pycharm": {
     "name": "#%% md\n"
    }
   }
  },
  {
   "cell_type": "markdown",
   "metadata": {
    "pycharm": {
     "name": "#%% md\n"
    }
   },
   "source": [
    "<a id='5'></a>\n",
    "<hr style=\"border:1px solid #DDD\"> </hr>\n",
    "\n",
    "#### <span style=\"color:green\">Exercises</span>\n",
    "\n",
    "- At the given lattice constants, perform complete convergence test of the total energy and (if applicable) magnetic moments for the different phases with respect to the values of the attributes <code><span style=\"color:mediumblue\">ngridk</span></code>, <code><span style=\"color:mediumblue\">swidth</span></code>, <code><span style=\"color:mediumblue\">rgkmax</span></code>, and <code><span style=\"color:mediumblue\">nempty</span></code>.\n",
    "- Perform the lattice optimization (see  **<span style=\"color:#3366BB\">Volume optimization for cubic systems</span>**) for the paramagnetic, ferromagnetic, and anti-ferromagnetic phases. Compare the total energies for the optimized structures of the different phases. Which phase has the minimum total energy per atom? How does the energetics of the different phases depend on the main computational parameters?\n",
    "- Calculate the magnetic moments of the optimized structure of the ferromagnetic phase. How does the obtained total magnetic moment compare with the one calculated in  **<span style=\"color:firebrick\">Section 2</span>** and with the experimental value of about 2.12 $μ_B$?\n",
    "- In order to visualize the volume dependence of total magnetic moment (magnetization) in the ferromagnetic phase, use the script **PLOT-totalmoment.py** inside the directory in which the volume optimization for this phase was performed.\n"
   ]
  },
  {
   "cell_type": "markdown",
   "metadata": {
    "pycharm": {
     "name": "#%% md\n"
    }
   },
   "source": [
    "<a id='6'></a>\n",
    "<hr style=\"border:1px solid #DDD\"> </hr>\n",
    "\n",
    "### <span style=\"color:#15317E\">Literature</span>\n",
    "- **<span style=\"color:firebrick\">Singh-2006</span>**: David J. Singh and Lars Nordström, \"*Planewaves, Pseudopotentials, and the LAPW Method, Second Edition*\", Springer 2006\n",
    "\n",
    "<hr style=\"border:2px solid #DDD\"> </hr>"
   ]
  }
 ],
 "metadata": {
  "kernelspec": {
   "display_name": "excitingjupyter",
   "language": "python",
   "name": "excitingjupyter"
  },
  "language_info": {
   "codemirror_mode": {
    "name": "ipython",
    "version": 3
   },
   "file_extension": ".py",
   "mimetype": "text/x-python",
   "name": "python",
   "nbconvert_exporter": "python",
   "pygments_lexer": "ipython3",
   "version": "3.9.4"
  }
 },
 "nbformat": 4,
 "nbformat_minor": 1
}