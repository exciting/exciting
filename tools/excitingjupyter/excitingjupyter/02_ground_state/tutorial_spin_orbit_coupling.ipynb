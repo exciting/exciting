{
 "cells": [
  {
   "cell_type": "markdown",
   "metadata": {
    "pycharm": {
     "name": "#%% md\n"
    }
   },
   "source": [
    "# Spin-Orbit Coupling\n",
    "**by <span style=\"color:darkgreen\">Benedikt Maurer</span> and <span style=\"color:darkgreen\">Andris Gulans</span> for [<span style=\"color:DarkGoldenRod\">exciting *oxygen*</span>](http://exciting.wikidot.com/oxygen)**\n",
    "\n",
    "<font size=\"2\">(Jupyter notebook by <span style=\"color:darkgreen\">Mara Voiculescu</span>)</font>\n",
    "<hr style=\"border:2px solid #DDD\"> </hr>"
   ]
  },
  {
   "cell_type": "markdown",
   "metadata": {
    "pycharm": {
     "name": "#%% md\n"
    }
   },
   "source": [
    "**<span style=\"color:firebrick\">Purpose</span>**:   In this tutorial you will learn how to calculate the electronic ground state with **spin-orbit coupling** (**SOC**). The effect of **SOC** is demonstrated by looking at the **band structure** of **GaAs**.\n",
    "<hr style=\"border:2px solid #DDD\"> </hr>"
   ]
  },
  {
   "cell_type": "markdown",
   "metadata": {
    "pycharm": {
     "name": "#%% md\n"
    }
   },
   "source": [
    "<div class=\"alert alert-block alert-warning\">\n",
    "\n",
    "**Table of Contents**\n",
    "\n",
    "[0. General Preparation](#0)\n",
    "\n",
    "[1. Theoretical Background: Spin-Orbit Coupling](#1)\n",
    "\n",
    "[2. Electronic Band Structure of GaAs without SOC](#2)\n",
    "\n",
    "[3. Electronic Band Structure of GaAs with SOC](#3)\n",
    "\n",
    "[Literature](#4)\n",
    "\n",
    "</div>"
   ]
  },
  {
   "cell_type": "markdown",
   "metadata": {
    "pycharm": {
     "name": "#%% md\n"
    }
   },
   "source": [
    "<a id='0'></a>\n",
    "<hr style=\"border:1px solid #DDD\"> </hr>\n",
    "\n",
    "### <span style=\"color:#15317E\">0. Before Starting</span>\n",
    "\n",
    "**<span style=\"color:firebrick\">Read the following paragraphs before starting with the rest of this tutorial!</span>**\n",
    "\n",
    "Before running any Jupyter tutorials, please refer to the **`00_before_starting.md`** document on how to correctly set up the environment. This only needs to be done once. After which, the **venv** can be (re)activated from exciting's root directory:\n",
    "\n",
    "<div style=\"background-color: rgb(224, 224, 224);\">\n",
    "\n",
    "```bash\n",
    "source tools/excitingjupyter/venv/excitingvenv/bin/activate\n",
    "```\n",
    "\n",
    "</div>\n",
    "\n",
    "As a first step, you may set the **exciting_root** directory and create a running directory for the notebook."
   ]
  },
  {
   "cell_type": "code",
   "execution_count": null,
   "metadata": {
    "ExecuteTime": {
     "end_time": "2022-11-05T18:50:42.725095Z",
     "start_time": "2022-11-05T18:50:42.710759Z"
    },
    "pycharm": {
     "name": "#%%\n"
    }
   },
   "outputs": [],
   "source": [
    "import os\n",
    "from excitingjupyter.utilities import get_exciting_root, check_for_binary\n",
    "\n",
    "exciting_root = get_exciting_root()\n",
    "check_for_binary(exciting_root)\n",
    "exciting_species = os.path.join(exciting_root, \"species\")\n",
    "print(exciting_root)"
   ]
  },
  {
   "cell_type": "code",
   "execution_count": null,
   "metadata": {
    "pycharm": {
     "name": "#%%\n"
    }
   },
   "outputs": [],
   "source": [
    "%%bash\n",
    "mkdir run_soc_tutorial"
   ]
  },
  {
   "cell_type": "markdown",
   "metadata": {
    "pycharm": {
     "name": "#%% md\n"
    }
   },
   "source": [
    "<a id='1'></a>\n",
    "<hr style=\"border:1px solid #DDD\"> </hr>\n",
    "\n",
    "### <span style=\"color:#15317E\">1. Theoretical Background: Spin-Orbit Coupling</span>\n",
    "\n",
    "**Spin-orbit coupling** (**SOC**) is a relativistic contribution to the kinetic energy that describes the interaction of an electron's spin with its orbit. The spin-orbit term in the electron Hamiltonian is given by (see **<span style=\"color:firebrick\">SOC-67</span>**):\n",
    "\n",
    "$$\n",
    "H_{SOC} = \\frac{\\boldsymbol{\\hbar}}{4m_0^2c^2}(\\boldsymbol{\\sigma} \\times \\nabla V_{KS}) \\cdot \\boldsymbol{p}\n",
    "$$\n",
    "\n",
    "where $m_0$, $\\boldsymbol{\\sigma} = (\\sigma_x, \\sigma_y, \\sigma_z)^T, V_{KS}$, and $\\boldsymbol{p}$ are the electron mass, a vector of the Pauli matrices, the Kohn-Sham potential, and the electron's momentum, respectively. The strength of the **SOC** increases with the magnitude of the nuclear charge, and it may be crucially important to consider the **SOC** for materials with heavy atoms.\n",
    "\n",
    "To demonstrate the effect of **SOC** on the electronic structure of **GaAs**, we calculate the **band structure** with and without **SOC** with **exciting** and compare them to each other."
   ]
  },
  {
   "cell_type": "markdown",
   "metadata": {
    "pycharm": {
     "name": "#%% md\n"
    }
   },
   "source": [
    "<a id='2'></a>\n",
    "<hr style=\"border:1px solid #DDD\"> </hr>\n",
    "\n",
    "### <span style=\"color:#15317E\">2. Electronic Band Structure of GaAs without SOC</span>\n",
    "\n",
    "At first, calculate the ground state and band structure of GaAs without SOC. To do so, create a new directory **GaAs-noSOC**:"
   ]
  },
  {
   "cell_type": "code",
   "execution_count": null,
   "outputs": [],
   "source": [
    "%%bash\n",
    "cd run_soc_tutorial\n",
    "mkdir GaAs-noSOC\n",
    "cd .."
   ],
   "metadata": {
    "collapsed": false,
    "pycharm": {
     "name": "#%%\n"
    }
   }
  },
  {
   "cell_type": "markdown",
   "source": [
    "Below is an example for the required input file (**input.xml**).\n",
    "\n",
    "```xml\n",
    "<input>\n",
    "   <title>GaAs noSOC</title>\n",
    " \n",
    "   <structure speciespath=\"$EXCITINGROOT/species\">\n",
    "      <crystal scale=\"10.683\" >\n",
    "         <basevect>  0.0  0.5  0.5 </basevect>\n",
    "         <basevect>  0.5  0.0  0.5 </basevect>\n",
    "         <basevect>  0.5  0.5  0.0 </basevect>\n",
    "      </crystal>\n",
    " \n",
    "      <species speciesfile='Ga.xml' rmt='2.0'>\n",
    "         <atom coord=\"0.00 0.00 0.00\"/>\n",
    "      </species>\n",
    " \n",
    "      <species speciesfile='As.xml' rmt='2.0'>\n",
    "         <atom coord=\"0.25 0.25 0.25\"/>\n",
    "      </species>\n",
    "   </structure>\n",
    " \n",
    "   <groundstate\n",
    "      do=\"fromscratch\"\n",
    "      xctype=\"GGA_PBE\"\n",
    "      rgkmax=\"6\"\n",
    "      gmaxvr=\"15\"\n",
    "      ngridk=\"4 4 4\"\n",
    "      swidth=\"1d-6\"\n",
    "      epsengy=\"1d-6\"\n",
    "      maxscl=\"40\">\n",
    "   </groundstate>\n",
    " \n",
    "   <properties>\n",
    "      <bandstructure>\n",
    "         <plot1d>\n",
    "            <path steps=\"1000\">\n",
    "               <point coord=\"1.0     0.0     0.0\" label=\"Gamma\"/>\n",
    "               <point coord=\"0.625   0.375   0.0\" label=\"K\"/>\n",
    "               <point coord=\"0.5     0.5     0.0\" label=\"X\"/>\n",
    "               <point coord=\"0.0     0.0     0.0\" label=\"Gamma\"/>\n",
    "               <point coord=\"0.5     0.0     0.0\" label=\"L\"/> \n",
    "            </path>\n",
    "         </plot1d>\n",
    "      </bandstructure>\n",
    "   </properties>\n",
    " \n",
    "</input>\n",
    "```\n",
    "The next step is writing the complete input as a string and saving it in your working directory as **input.xml**."
   ],
   "metadata": {
    "collapsed": false,
    "pycharm": {
     "name": "#%% md\n"
    }
   }
  },
  {
   "cell_type": "code",
   "execution_count": null,
   "outputs": [],
   "source": [
    "from excitingjupyter.utilities import re_input\n",
    "\n",
    "# Convert markdown cell with input to string:\n",
    "notebook = \"tutorial_spin_orbit_coupling.ipynb\"\n",
    "xml_str = re_input(notebook, \"GaAs noSOC\")\n",
    "input_str = xml_str.replace(\"$EXCITINGROOT/species\", f\"{exciting_species}\")\n",
    "\n",
    "# Write out the input as an XML file:\n",
    "with open(os.path.join(os.getcwd(), 'run_soc_tutorial/GaAs-noSOC/input.xml'), \"w\") as fid:\n",
    "    fid.write(input_str)"
   ],
   "metadata": {
    "collapsed": false,
    "pycharm": {
     "name": "#%%\n"
    }
   }
  },
  {
   "cell_type": "markdown",
   "source": [
    "In order to run **exciting**, you simply need to execute the **exciting_smp** binary in the subdirectory **GaAs-noSOC**. After a few seconds, the calculation should be finished. Here we used the <code>time</code> command before **exciting_smp** in order to get, at the end of the run, the elapsed time explicitly written on the screen."
   ],
   "metadata": {
    "collapsed": false,
    "pycharm": {
     "name": "#%% md\n"
    }
   }
  },
  {
   "cell_type": "code",
   "execution_count": null,
   "outputs": [],
   "source": [
    "%%bash\n",
    "cd run_soc_tutorial/GaAs-noSOC\n",
    "# Set up environment. Note that this is platform-specific. With the Modules package you can e.g. use:\n",
    "module load intel\n",
    "time $EXCITINGROOT/bin/exciting_smp input.xml\n",
    "cd ../.."
   ],
   "metadata": {
    "collapsed": false,
    "pycharm": {
     "name": "#%%\n"
    }
   }
  },
  {
   "cell_type": "markdown",
   "source": [
    "You can monitor the progress of self-consistent cycle (SCF) by typing:\n",
    "```bash\n",
    "$ tail -f INFO.OUT\n",
    "```\n",
    "\n",
    "If the calculation was successful, the files **BAND.OUT**, **BANDLINES.OUT**, and **bandstructure.xml** exist.\n",
    "\n",
    "You can visualize the band structure by parsing the output file **bandstructure.xml** inside the notebook."
   ],
   "metadata": {
    "collapsed": false,
    "pycharm": {
     "name": "#%% md\n"
    }
   }
  },
  {
   "cell_type": "code",
   "execution_count": null,
   "outputs": [],
   "source": [
    "from excitingtools.exciting_obj_parsers.ks_band_structure import parse_band_structure\n",
    "from scipy.constants import physical_constants\n",
    "\n",
    "ha_to_ev = physical_constants[\"hartree-electron volt relationship\"][0]\n",
    "\n",
    "bandstructure_xml = os.path.join(os.getcwd(), 'run_soc_tutorial/GaAs-noSOC/bandstructure.xml')\n",
    "band_data_no_soc = parse_band_structure(bandstructure_xml)\n",
    "\n",
    "band_data_no_soc.e_fermi = 0.0\n",
    "band_data_no_soc.i_vbm =  band_data_no_soc.get_band_edges()[0]\n",
    "vbm = band_data_no_soc.get_valence_band_maximum()\n",
    "band_data_no_soc.bands = (band_data_no_soc.bands - vbm) * ha_to_ev\n",
    "\n",
    "vertices, labels = band_data_no_soc.band_path()"
   ],
   "metadata": {
    "collapsed": false,
    "pycharm": {
     "name": "#%%\n"
    }
   }
  },
  {
   "cell_type": "code",
   "execution_count": null,
   "outputs": [],
   "source": [
    "import matplotlib.pyplot as plt\n",
    "from matplotlib.lines import Line2D\n",
    "\n",
    "plt.figure(figsize=(8,5))\n",
    "plt.ylabel(\"Energy - $\\mathregular{E_{VBM}}$ [eV]\", fontsize=16)\n",
    "plt.ylim([-5, 3])\n",
    "plt.xlim([vertices[0], vertices[-1]])\n",
    "\n",
    "plt.xticks(ticks=vertices, labels=labels, fontsize=16)\n",
    "plt.yticks(fontsize=14)\n",
    "plt.tick_params(length=5,width=2)\n",
    "\n",
    "plt.axhline(y=band_data_no_soc.e_fermi, color=\"black\", linestyle='--', linewidth=1.2)\n",
    "\n",
    "for i in range(len(band_data_no_soc.vertices)):\n",
    "    plt.axvline(x=vertices[i], color=\"black\", linewidth=1)\n",
    "\n",
    "plt.rcParams[\"axes.linewidth\"] = 2\n",
    "\n",
    "plt.text(1.95, -0.1, \"$\\mathregular{E_{VBM}}$\", fontsize=16)\n",
    "\n",
    "plt.plot(band_data_no_soc.flattened_k_points, band_data_no_soc.bands, color=\"mediumblue\")\n",
    "\n",
    "label = Line2D([0], [0], label='GaAs-noSOC', color='mediumblue')\n",
    "plt.legend(handles=[label], loc=(0.75, 0.9))\n",
    "\n",
    "plt.show()"
   ],
   "metadata": {
    "collapsed": false,
    "pycharm": {
     "name": "#%%\n"
    }
   }
  },
  {
   "cell_type": "markdown",
   "source": [
    "<a id='3'></a>\n",
    "<hr style=\"border:1px solid #DDD\"> </hr>\n",
    "\n",
    "### <span style=\"color:#15317E\">2. Electronic Band Structure of GaAs with SOC</span>"
   ],
   "metadata": {
    "collapsed": false,
    "pycharm": {
     "name": "#%% md\n"
    }
   }
  },
  {
   "cell_type": "markdown",
   "source": [
    "The ground state of **GaAs** without **SOC** can be used as starting point for the calculation with **SOC**. Create a new directory for the calculation with **SOC** and copy and paste all files from the old directory into the new one:"
   ],
   "metadata": {
    "collapsed": false,
    "pycharm": {
     "name": "#%% md\n"
    }
   }
  },
  {
   "cell_type": "code",
   "execution_count": null,
   "outputs": [],
   "source": [
    "%%bash\n",
    "cd run_soc_tutorial\n",
    "mkdir GaAs-SOC\n",
    "cp -a GaAs-noSOC/. GaAs-SOC\n",
    "cd .."
   ],
   "metadata": {
    "collapsed": false,
    "pycharm": {
     "name": "#%%\n"
    }
   }
  },
  {
   "cell_type": "markdown",
   "source": [
    "To perform a ground-state calculation that includes **SOC**, the input file **input.xml** should be modified such that the <code><span style=\"color:green\">title</span></code> is changed to **GaAs SOC** and the content of the <code><span style=\"color:green\">groundstate</span></code> is adjusted as\n",
    "\n",
    "```xml\n",
    "...\n",
    "   <groundstate\n",
    "      do=\"fromfile\"\n",
    "      xctype=\"GGA_PBE\"\n",
    "      rgkmax=\"6\"\n",
    "      gmaxvr=\"15\"\n",
    "      ngridk=\"4 4 4\"\n",
    "      swidth=\"1d-6\"\n",
    "      epsengy=\"1d-6\"\n",
    "      maxscl=\"40\"\n",
    "      nempty=\"15\">\n",
    " \n",
    "      <spin spinorb=\"true\"/>\n",
    "   </groundstate>\n",
    "...\n",
    "```"
   ],
   "metadata": {
    "collapsed": false,
    "pycharm": {
     "name": "#%% md\n"
    }
   }
  },
  {
   "cell_type": "code",
   "execution_count": null,
   "outputs": [],
   "source": [
    "groundstate_soc = \"\"\"\n",
    "    <groundstate\n",
    "      do=\"fromfile\"\n",
    "      xctype=\"GGA_PBE\"\n",
    "      rgkmax=\"6\"\n",
    "      gmaxvr=\"15\"\n",
    "      ngridk=\"4 4 4\"\n",
    "      swidth=\"1d-6\"\n",
    "      epsengy=\"1d-6\"\n",
    "      maxscl=\"40\"\n",
    "      nempty=\"15\">\n",
    "\n",
    "      <spin spinorb=\"true\"/>\n",
    "   </groundstate>\n",
    "\"\"\"\n",
    "\n",
    "index1=input_str.find(\"<groundstate\")\n",
    "index2=input_str.find(\"<properties>\")\n",
    "\n",
    "input_str_soc = input_str[:index1] + groundstate_soc +\"\\n\"+ input_str[index2:]\n",
    "input_str_soc = input_str_soc.replace('<title>GaAs noSOC</title>', ' <title>GaAs SOC</title>')\n",
    "\n",
    "with open(os.path.join(os.getcwd(), 'run_soc_tutorial/GaAs-SOC/input.xml'), \"w\") as fid:\n",
    "    fid.write(input_str_soc)"
   ],
   "metadata": {
    "collapsed": false,
    "pycharm": {
     "name": "#%%\n"
    }
   }
  },
  {
   "cell_type": "markdown",
   "source": [
    "If you compare this to the previous <code><span style=\"color:green\">groundstate</span></code> element, you will notice the following differences:\n",
    "\n",
    "1. The <code><span style=\"color:mediumblue\">do</span></code> attribute is set to <code><span style=\"color:firebrick\">\"fromfile\"</span></code>. This enables **exciting** to use the self-consistent potential from the scalar-relativistic calculation as the starting point. As for <code><span style=\"color:firebrick\">\"skip\"</span></code>, the files **STATE.OUT** and **EFERMI.OUT** from the calculation to skip have to be present in the directory.\n",
    "2. A new element <code><span style=\"color:green\">spin</span></code> is added to <code><span style=\"color:green\">groundstate</span></code> with the attribute <code><span style=\"color:mediumblue\">spinorb</span>=<span style=\"color:firebrick\">\"true\"</span></code>. This enables **SOC** for the ground state.\n",
    "3. The attribute <code><span style=\"color:mediumblue\">nempty</span>=<span style=\"color:firebrick\">\"15\"</span></code> has been added to the <code><span style=\"color:green\">groundstate</span></code> element. This attribute defines how many unoccupied (empty) states are considered for the solution of the electronic ground state with **SOC**. **<span style=\"color:firebrick\">When SOC is taken into account, a proper choice of the parameter nempty is fundamental for converged results!</span>**\n",
    "\n",
    "Use the following commands to run the calculation:"
   ],
   "metadata": {
    "collapsed": false,
    "pycharm": {
     "name": "#%% md\n"
    }
   }
  },
  {
   "cell_type": "code",
   "execution_count": null,
   "outputs": [],
   "source": [
    "%%bash\n",
    "cd run_soc_tutorial/GaAs-SOC\n",
    "module load intel\n",
    "time $EXCITINGROOT/bin/exciting_smp input.xml\n",
    "cd ../.."
   ],
   "metadata": {
    "collapsed": false,
    "pycharm": {
     "name": "#%%\n"
    }
   }
  },
  {
   "cell_type": "markdown",
   "metadata": {
    "pycharm": {
     "name": "#%% md\n"
    }
   },
   "source": [
    "Note, that the output file **INFO.OUT** contains a new section called **Moments**: inside the **SCF** information.\n",
    "\n",
    "```\n",
    " Moments :\n",
    "     interstitial                 :     0.00000000     0.00000000     0.00000000\n",
    "     moment in muffin-tin spheres :\n",
    "         atom     1    As         :     0.00000000     0.00000000    -0.00000000\n",
    "         atom     2    Ga         :    -0.00000000    -0.00000000    -0.00000000\n",
    "     total moment in muffin-tins  :    -0.00000000    -0.00000000    -0.00000000\n",
    "     total moment                 :    -0.00000000    -0.00000000    -0.00000000\n",
    "```\n",
    "\n",
    "This section shows the moments of the interstitial and the muffin-tin part of the solution. If this section is present, **SOC** is included into the solution of the ground state.\n",
    "\n",
    "If you did not change anything else than the <code><span style=\"color:green\">groundstate</span></code> element, the band structure is calculated already and you can compare it to the band structure of the calculation without **SOC**."
   ]
  },
  {
   "cell_type": "code",
   "execution_count": null,
   "metadata": {
    "pycharm": {
     "name": "#%%\n"
    }
   },
   "outputs": [],
   "source": [
    "bandstructure_xml = os.path.join(os.getcwd(), 'run_soc_tutorial/GaAs-SOC/bandstructure.xml')\n",
    "band_data_soc = parse_band_structure(bandstructure_xml)\n",
    "\n",
    "band_data_soc.e_fermi = 0.0\n",
    "band_data_soc.i_vbm =  band_data_soc.get_band_edges()[0]\n",
    "vbm = band_data_soc.get_valence_band_maximum()\n",
    "band_data_soc.bands = (band_data_soc.bands - vbm) * ha_to_ev\n",
    "\n",
    "vertices, labels = band_data_soc.band_path()"
   ]
  },
  {
   "cell_type": "code",
   "execution_count": null,
   "metadata": {
    "pycharm": {
     "name": "#%%\n"
    }
   },
   "outputs": [],
   "source": [
    "plt.figure(figsize=(8,5))\n",
    "plt.ylabel(\"Energy - $\\mathregular{E_{VBM}}$ [eV]\", fontsize=16)\n",
    "plt.ylim([-5, 3])\n",
    "plt.xlim([vertices[0], vertices[-1]])\n",
    "\n",
    "plt.xticks(ticks=vertices, labels=labels, fontsize=16)\n",
    "plt.yticks(fontsize=14)\n",
    "plt.tick_params(length=5,width=2)\n",
    "\n",
    "plt.axhline(y=band_data_soc.e_fermi, color=\"black\", linestyle='--', linewidth=1.2)\n",
    "\n",
    "for i in range(len(band_data_soc.vertices)):\n",
    "    plt.axvline(x=vertices[i], color=\"black\", linewidth=1)\n",
    "\n",
    "plt.rcParams[\"axes.linewidth\"] = 2\n",
    "\n",
    "plt.text(1.95, -0.1, \"$\\mathregular{E_{VBM}}$\", fontsize=16)\n",
    "\n",
    "plt.plot(band_data_no_soc.flattened_k_points, band_data_no_soc.bands, color=\"mediumblue\")\n",
    "plt.plot(band_data_soc.flattened_k_points, band_data_soc.bands, color=\"red\")\n",
    "\n",
    "label_no_soc = Line2D([0], [0], label='GaAs-noSOC', color='mediumblue')\n",
    "label_soc = Line2D([0], [0], label='GaAs-SOC', color='red')\n",
    "plt.legend(handles=[label_no_soc, label_soc], loc=(0.75, 0.1))\n",
    "\n",
    "plt.show()"
   ]
  },
  {
   "cell_type": "markdown",
   "metadata": {
    "pycharm": {
     "name": "#%% md\n"
    }
   },
   "source": [
    "Comparing the band dispersion curves from the two calculations, we notice a few features introduced by the SOC.\n",
    "\n",
    "1. The band gap $E_g$ slightly decreases.\n",
    "2. The 3 top valence bands lose their triple degeneracy at the **Γ**-point, and we can recognize the heavy and light hole bands as well as the split-off band. The difference between the light-hole (or heavy-hole) and the split-off bands is known as the spin-orbit splitting $\\Delta_{SO}$.\n",
    "3. Some bands lose their spin-degeneracy as **GaAs** does not have an inversion symmetry. This can be verified by looking at the electronic band structure close to the **Γ**-point along the **X->Γ->L** directions. This feature is more visible in the plot which is produced by changing the energy window as follows:\n"
   ]
  },
  {
   "cell_type": "code",
   "execution_count": null,
   "metadata": {
    "pycharm": {
     "name": "#%%\n"
    }
   },
   "outputs": [],
   "source": [
    "plt.figure(figsize=(4,5))\n",
    "plt.ylabel(\"Energy - $\\mathregular{E_{VBM}}$ [eV]\", fontsize=16)\n",
    "plt.ylim([-1.5, 1.5])\n",
    "plt.xlim([1.35, 1.49])\n",
    "\n",
    "plt.xticks(ticks=[vertices[3]], labels=[labels[3]], fontsize=16)\n",
    "plt.yticks(fontsize=14)\n",
    "plt.tick_params(length=5,width=2)\n",
    "\n",
    "plt.axhline(y=band_data_soc.e_fermi, color=\"black\", linestyle='--', linewidth=1.2)\n",
    "\n",
    "for i in range(len(band_data_soc.vertices)):\n",
    "    plt.axvline(x=vertices[i], color=\"black\", linewidth=1)\n",
    "\n",
    "plt.rcParams[\"axes.linewidth\"] = 2\n",
    "\n",
    "plt.text(1.495, -0.05, \"$\\mathregular{E_{VBM}}$\", fontsize=16)\n",
    "\n",
    "plt.plot(band_data_no_soc.flattened_k_points, band_data_no_soc.bands, color=\"mediumblue\")\n",
    "plt.plot(band_data_soc.flattened_k_points, band_data_soc.bands, color=\"red\")\n",
    "\n",
    "label_no_soc = Line2D([0], [0], label='GaAs-noSOC', color='mediumblue')\n",
    "label_soc = Line2D([0], [0], label='GaAs-SOC', color='red')\n",
    "plt.legend(handles=[label_no_soc, label_soc], loc=(0.25, 0.05))\n",
    "\n",
    "plt.show()"
   ]
  },
  {
   "cell_type": "markdown",
   "metadata": {
    "pycharm": {
     "name": "#%% md\n"
    }
   },
   "source": [
    "The plot is useful for a qualitative analysis, but it is more convenient to look at the output files **EIGVAL.OUT** or **BAND.OUT** inside the directory **GaAs-SOC** for extracting the numbers. **EIGVAL.OUT** contains Kohn-Sham eigenvalues at each **k**-point considered in the self-consistent calculation. If you open this file in the directory with the **SOC** calculation, you will find the following data:\n",
    "\n",
    "```\n",
    "    10 : nkpt\n",
    "    40 : nstsv\n",
    "\n",
    "     1   0.000000000       0.000000000       0.000000000     : k-point, vkl\n",
    " (state, eigenvalue and occupancy below)\n",
    "...\n",
    "    21 -0.2881291119       1.000000000    \n",
    "    22 -0.2881291119       1.000000000    \n",
    "    23  0.1721175534       1.000000000    \n",
    "    24  0.1721175534       1.000000000    \n",
    "    25  0.1840659516       1.000000000    \n",
    "    26  0.1840659521       1.000000000    \n",
    "    27  0.1840662097       1.000000000    \n",
    "    28  0.1840662102       1.000000000    \n",
    "    29  0.1979968334       0.000000000    \n",
    "    30  0.1979968334       0.000000000    \n",
    "    31  0.3106234272       0.000000000    \n",
    "    32  0.3106234272       0.000000000    \n",
    "    33  0.3173384018       0.000000000    \n",
    "    34  0.3173384023       0.000000000  \n",
    "...\n",
    "```\n",
    "\n",
    "The indices of the bands are as follows:\n",
    "\n",
    "- 23-24 — the split-off band,\n",
    "- 25-26 — the light hole band,\n",
    "- 27-28 — the heavy hole band,\n",
    "- 29-30 — the lowest conduction band.\n",
    "\n",
    "Taking into account that the energies are given in the atomic units (Hartrees), the Kohn-Sham band gap is $E_g$ = 0.38 eV, which is much smaller than the experimental value $E_g^{exp}$ = 1.42 eV (see **<span style=\"color:firebrick\">GaAs-gap</span>**). The obtained spin-orbit splitting is $\\Delta_{SO}$ = 0.33 eV. Unlike the band gap, it is in a good agreement with experiment ($\\Delta_{SO}^{exp}$ = 0.34 eV)."
   ]
  },
  {
   "cell_type": "markdown",
   "metadata": {
    "pycharm": {
     "name": "#%% md\n"
    }
   },
   "source": [
    "<a id='4'></a>\n",
    "<hr style=\"border:1px solid #DDD\"> </hr>\n",
    "\n",
    "### <span style=\"color:#15317E\">Literature</span>\n",
    "\n",
    "- **<span style=\"color:firebrick\">SOC-67</span>**: The form of $H_{SOC}$ in the given form is derived in J. J. Sakurai, Advanced quantum mechanics (Addison-Wesley, Reading, MA, 1967) pp. 62, 63, 1, 4.\n",
    "- **<span style=\"color:firebrick\">GaAs-gap</span>**: T.E. Schlesinger, **<span style=\"color:firebrick\">Gallium Arsenide</span>** in Encyclopedia of Materials: Science and Technology, 2001\n",
    "\n",
    "<hr style=\"border:2px solid #DDD\"> </hr>"
   ]
  }
 ],
 "metadata": {
  "kernelspec": {
   "display_name": "excitingjupyter",
   "language": "python",
   "name": "excitingjupyter"
  },
  "language_info": {
   "codemirror_mode": {
    "name": "ipython",
    "version": 3
   },
   "file_extension": ".py",
   "mimetype": "text/x-python",
   "name": "python",
   "nbconvert_exporter": "python",
   "pygments_lexer": "ipython3",
   "version": "3.9.4"
  }
 },
 "nbformat": 4,
 "nbformat_minor": 1
}