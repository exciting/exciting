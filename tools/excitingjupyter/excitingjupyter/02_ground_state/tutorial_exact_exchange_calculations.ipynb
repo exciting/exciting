{
 "cells": [
  {
   "cell_type": "markdown",
   "metadata": {
    "collapsed": true,
    "pycharm": {
     "name": "#%% md\n"
    }
   },
   "source": [
    "# Exact Exchange Calculations \n",
    "**by <span style=\"color:darkgreen\">Ute Werner</span> for [<span style=\"color:DarkGoldenRod\">exciting *oxygen*</span>](http://exciting.wikidot.com/oxygen)**\n",
    "\n",
    "<font size=\"2\">(Jupyter notebook by <span style=\"color:darkgreen\">Mara Voiculescu</span>)</font>\n",
    "<hr style=\"border:2px solid #DDD\"> </hr>"
   ]
  },
  {
   "cell_type": "markdown",
   "metadata": {
    "pycharm": {
     "name": "#%% md\n"
    }
   },
   "source": [
    "**<span style=\"color:firebrick\">Purpose</span>**: In this tutorial, you will learn how to perform band-structure calculations using the optimized effective potential - exact-exchange (**EXX**) method. As an example, the band structure of diamond is calculated.\n",
    "<hr style=\"border:2px solid #DDD\"> </hr>"
   ]
  },
  {
   "cell_type": "markdown",
   "metadata": {
    "pycharm": {
     "name": "#%% md\n"
    }
   },
   "source": [
    "<div class=\"alert alert-block alert-warning\">\n",
    "\n",
    "**Table of Contents**\n",
    "    \n",
    "[0. Before Starting](#0)\n",
    "    \n",
    "[1. Introduction](#1)  \n",
    "    \n",
    "[2. LDA Calculation](#2)\n",
    "   - Preparation of the Calculation\n",
    "   - Execute the Calculation \n",
    "\n",
    "[3. Exact-Exchange Calculation](#3)\n",
    "   - Preparation of the Input File\n",
    "   - Execute the Calculation \n",
    "    \n",
    "[4. Post Processing](#4)\n",
    "\n",
    "[5. Excercise](#5)      \n",
    "\n",
    "[6. Literature](#6)\n",
    "</div>"
   ]
  },
  {
   "cell_type": "markdown",
   "metadata": {
    "pycharm": {
     "name": "#%% md\n"
    }
   },
   "source": [
    "<a id='0'></a>\n",
    "<hr style=\"border:1px solid #DDD\"> </hr>\n",
    "\n",
    "### <span style=\"color:#15317E\">0. Before Starting</span>\n",
    "\n",
    "**<span style=\"color:firebrick\">Read the following paragraphs before starting with the rest of this tutorial!</span>**\n",
    "\n",
    "Before running any Jupyter tutorials, please refer to the **`00_before_starting.md`** document on how to correctly set up the environment. This only needs to be done once. After which, the **venv** can be (re)activated from exciting's root directory:\n",
    "\n",
    "<div style=\"background-color: rgb(224, 224, 224);\">\n",
    "\n",
    "```bash\n",
    "source tools/excitingjupyter/venv/excitingvenv/bin/activate\n",
    "```\n",
    "\n",
    "</div>\n",
    "\n",
    "As a first step, you may set the **exciting_root** directory and create a running directory for the notebook."
   ]
  },
  {
   "cell_type": "code",
   "execution_count": null,
   "metadata": {
    "pycharm": {
     "name": "#%%\n"
    }
   },
   "outputs": [],
   "source": [
    "import os\n",
    "from excitingjupyter.utilities import get_exciting_root, check_for_binary\n",
    "\n",
    "exciting_root = get_exciting_root()\n",
    "check_for_binary(exciting_root)\n",
    "exciting_species = os.path.join(exciting_root, \"species\")\n",
    "print(exciting_root)"
   ]
  },
  {
   "cell_type": "code",
   "execution_count": null,
   "metadata": {
    "pycharm": {
     "name": "#%%\n"
    }
   },
   "outputs": [],
   "source": [
    "%%bash\n",
    "mkdir run_tutorial_exact_exchange_calculations"
   ]
  },
  {
   "cell_type": "markdown",
   "metadata": {
    "pycharm": {
     "name": "#%% md\n"
    }
   },
   "source": [
    "<a id='1'></a>\n",
    "<hr style=\"border:1px solid #DDD\"> </hr>\n",
    "\n",
    "### <span style=\"color:#15317E\">1. Introduction</span>\n",
    "\n",
    "A typical exact exchange (**EXX**) calculation consists of two parts. Initially a ground state self-consistent cycle, for example with **LDA**, is performed to create good Kohn-Sham orbitals as initial guess for the **EXX** calculation. Afterwards, starting from these data, a self consistent **EXX** calculation is executed."
   ]
  },
  {
   "cell_type": "markdown",
   "metadata": {
    "pycharm": {
     "name": "#%% md\n"
    }
   },
   "source": [
    "<a id='2'></a>\n",
    "<hr style=\"border:1px solid #DDD\"> </hr>\n",
    "\n",
    "### <span style=\"color:#15317E\">2. LDA Calculation</span>\n",
    "\n",
    "We start by performing an **LDA** calculation for comparing with **EXX**. This initial **LDA** calculation is not related to the initial self-consistent cycle performed at the beginning of the **EXX** calculation, since the latter is done internally by exciting.\n",
    "\n",
    "As usual, the first thing to do is to create the subdirectory for the **LDA** calculation."
   ]
  },
  {
   "cell_type": "code",
   "execution_count": null,
   "outputs": [],
   "source": [
    "%%bash\n",
    "cd run_tutorial_exact_exchange_calculations\n",
    "mkdir LDA\n",
    "cd .."
   ],
   "metadata": {
    "collapsed": false,
    "pycharm": {
     "name": "#%%\n"
    }
   }
  },
  {
   "cell_type": "markdown",
   "source": [
    "#### <span style=\"color:#15317E\">i) Preparation of the Calculaion</span>\n",
    "\n",
    "Create an input file input.xml for the ground-state and band-structure calculation of diamond using LDA which could look like this\n",
    "\n",
    "```xml\n",
    "<input>\n",
    " \n",
    "   <title>Diamond LDA</title>\n",
    " \n",
    "   <structure speciespath=\"$EXCITINGROOT/species\" >\n",
    "      <crystal scale=\"6.7425\">\n",
    "         <basevect> 0.0     0.5     0.5 </basevect>\n",
    "         <basevect> 0.5     0.0     0.5 </basevect>\n",
    "         <basevect> 0.5     0.5     0.0 </basevect>\n",
    "      </crystal>\n",
    "      <species speciesfile=\"C.xml\">\n",
    "         <atom coord=\"0.00 0.00 0.00\" />\n",
    "         <atom coord=\"0.25 0.25 0.25\" />\n",
    "      </species>\n",
    "   </structure>\n",
    " \n",
    "   <groundstate \n",
    "      ngridk=\"8 8 8\"\n",
    "      xctype=\"LDA_PW\">\n",
    "   </groundstate>\n",
    " \n",
    "   <properties>\n",
    "      <bandstructure>\n",
    "         <plot1d>\n",
    "            <path steps=\"200\">\n",
    "               <point coord=\"1.0     0.0     0.0\" label=\"Gamma\"/>\n",
    "               <point coord=\"0.625   0.375   0.0\" label=\"K\"/>\n",
    "               <point coord=\"0.5     0.5     0.0\" label=\"X\"/>\n",
    "               <point coord=\"0.0     0.0     0.0\" label=\"Gamma\"/>\n",
    "               <point coord=\"0.5     0.0     0.0\" label=\"L\"/> \n",
    "            </path>\n",
    "         </plot1d>\n",
    "      </bandstructure>\n",
    "   </properties>\n",
    " \n",
    "</input>\n",
    "```\n",
    "\n",
    "This can be done by writing the complete input as a string and saving it in your working directory as **input.xml**."
   ],
   "metadata": {
    "collapsed": false,
    "pycharm": {
     "name": "#%% md\n"
    }
   }
  },
  {
   "cell_type": "code",
   "execution_count": null,
   "outputs": [],
   "source": [
    "from excitingjupyter.utilities import re_input\n",
    "\n",
    "# Convert markdown cell with input to string:\n",
    "notebook = \"tutorial_exact_exchange_calculations.ipynb\"\n",
    "xml_str = re_input(notebook, \"Diamond LDA\")\n",
    "input_str_LDA = xml_str.replace(\"$EXCITINGROOT/species\", f\"{exciting_species}\")\n",
    "\n",
    "# Write out the input as an XML file:\n",
    "with open(os.path.join(os.getcwd(), 'run_tutorial_exact_exchange_calculations/LDA/input.xml'), \"w\") as fid:\n",
    "    fid.write(input_str_LDA)"
   ],
   "metadata": {
    "collapsed": false,
    "pycharm": {
     "name": "#%%\n"
    }
   }
  },
  {
   "cell_type": "markdown",
   "source": [
    "#### <span style=\"color:#15317E\">ii) Execute the Calculation</span>\n",
    "\n",
    "In order to run **exciting** from the terminal, you simply need to execute the **exciting_smp** binary in the running directory. After a few seconds, the calculation should be finished.\n",
    "\n",
    "Here we used the <code>time</code> command before **exciting_smp** in order to get, at the end of the run, the elapsed time explicitly written on the screen.\n",
    "\n",
    "**Be sure** that your calculation is completed before proceeding with the next steps!"
   ],
   "metadata": {
    "collapsed": false,
    "pycharm": {
     "name": "#%% md\n"
    }
   }
  },
  {
   "cell_type": "code",
   "execution_count": null,
   "outputs": [],
   "source": [
    "%%bash\n",
    "cd run_tutorial_exact_exchange_calculations/LDA\n",
    "# Set up environment. Note that this is platform-specific. With the Modules package you can e.g. use:\n",
    "module load intel\n",
    "time $EXCITINGROOT/bin/exciting_smp input.xml\n",
    "cd ../.."
   ],
   "metadata": {
    "collapsed": false,
    "pycharm": {
     "name": "#%%\n"
    }
   }
  },
  {
   "cell_type": "markdown",
   "source": [
    "<a id='3'></a>\n",
    "<hr style=\"border:1px solid #DDD\"> </hr>\n",
    "\n",
    "### <span style=\"color:#15317E\">3. Exact-Exchange Calculation</span>"
   ],
   "metadata": {
    "collapsed": false,
    "pycharm": {
     "name": "#%% md\n"
    }
   }
  },
  {
   "cell_type": "markdown",
   "source": [
    "#### <span style=\"color:#15317E\">i) Preparation of the Calculaion</span>\n",
    "\n",
    "In the next step, we will calculate the ground state and band structure using **EXX**. Therefore, replace the <code><span style=\"color:green\">groundstate</span></code>  section in the file **input.xml** with the following lines.\n",
    "\n",
    "```xml\n",
    "...\n",
    "   <groundstate \n",
    "      ngridk=\"3 3 3\"\n",
    "      xctype=\"EXX\"\n",
    "      vkloff=\"0.5 0.5 0.5\"\n",
    "      nempty=\"29\">\n",
    " \n",
    "      <OEP \n",
    "         maxitoep=\"100\"> \n",
    "      </OEP>\n",
    " \n",
    "   </groundstate>\n",
    "...\n",
    "\n",
    "```"
   ],
   "metadata": {
    "collapsed": false,
    "pycharm": {
     "name": "#%% md\n"
    }
   }
  },
  {
   "cell_type": "code",
   "execution_count": null,
   "outputs": [],
   "source": [
    "%%bash\n",
    "cd run_tutorial_exact_exchange_calculations\n",
    "mkdir EXX\n",
    "cd .."
   ],
   "metadata": {
    "collapsed": false,
    "pycharm": {
     "name": "#%%\n"
    }
   }
  },
  {
   "cell_type": "code",
   "execution_count": null,
   "outputs": [],
   "source": [
    "groundstate_EXX = \"\"\"<groundstate \n",
    "      ngridk=\"3 3 3\"\n",
    "      xctype=\"EXX\"\n",
    "      vkloff=\"0.5 0.5 0.5\"\n",
    "      nempty=\"29\">\n",
    " \n",
    "      <OEP \n",
    "         maxitoep=\"100\"> \n",
    "      </OEP>\n",
    "      \n",
    "     </groundstate>\n",
    "\"\"\"\n",
    "\n",
    "index1=input_str_LDA.find(\"<groundstate\")\n",
    "index2=input_str_LDA.find(\"<properties>\")\n",
    "\n",
    "input_str_EXX = input_str_LDA[:index1] + groundstate_EXX +\"\\n\"+ input_str_LDA[index2:]\n",
    "\n",
    "with open(os.path.join(os.getcwd(), 'run_tutorial_exact_exchange_calculations/EXX/input.xml'), \"w\") as fid:\n",
    "    fid.write(input_str_EXX)"
   ],
   "metadata": {
    "collapsed": false,
    "pycharm": {
     "name": "#%%\n"
    }
   }
  },
  {
   "cell_type": "markdown",
   "source": [
    "Let's have a closer look to the parameters in this file.\n",
    "\n",
    "Parameter|Description\n",
    ":-----------|:--------------------------------\n",
    "<code><span style=\"color:mediumblue\">xctype</span></code>=**\"EXX\"**|The calculation is performed using the exact-exchange functional.\n",
    "<code><span style=\"color:mediumblue\">nempty</span></code>=**\"29\"**|The number of empty bands, crucial for the convergence.\n",
    "<code><span style=\"color:mediumblue\">vkloff</span></code>=**\"0.5 0.5 0.5\"**|The origin of the k-point grid, crucial for the convergence.\n",
    "<code><span style=\"color:mediumblue\">maxitoep</span></code>=**\"100\"**|The number of iterations for the evaluation of integrals in **EXX**."
   ],
   "metadata": {
    "collapsed": false,
    "pycharm": {
     "name": "#%% md\n"
    }
   }
  },
  {
   "cell_type": "markdown",
   "source": [
    "Since the **EXX** calculations are much more time consuming than corresponding **LDA** ones, computational parameters have been chosen in a way to speed up the calculation. However, the calculation will still last approximately 10-20 min. For further details on the parameters see [**Input Reference**](http://exciting.wikidot.com/ref:input)."
   ],
   "metadata": {
    "collapsed": false,
    "pycharm": {
     "name": "#%% md\n"
    }
   }
  },
  {
   "cell_type": "markdown",
   "source": [
    "#### <span style=\"color:#15317E\">ii) Execute the Calculation</span>"
   ],
   "metadata": {
    "collapsed": false,
    "pycharm": {
     "name": "#%% md\n"
    }
   }
  },
  {
   "cell_type": "code",
   "execution_count": null,
   "outputs": [],
   "source": [
    "%%bash\n",
    "cd run_tutorial_exact_exchange_calculations/EXX\n",
    "# Set up environment. Note that this is platform-specific. With the Modules package you can e.g. use:\n",
    "module load intel\n",
    "time $EXCITINGROOT/bin/exciting_smp input.xml\n",
    "cd ../.."
   ],
   "metadata": {
    "collapsed": false,
    "pycharm": {
     "name": "#%%\n"
    }
   }
  },
  {
   "cell_type": "markdown",
   "metadata": {
    "pycharm": {
     "name": "#%% md\n"
    }
   },
   "source": [
    "<a id='4'></a>\n",
    "<hr style=\"border:1px solid #DDD\"> </hr>\n",
    "\n",
    "### <span style=\"color:#15317E\">4. Post Processing</span>\n",
    "\n"
   ]
  },
  {
   "cell_type": "code",
   "execution_count": null,
   "metadata": {
    "pycharm": {
     "name": "#%%\n"
    }
   },
   "outputs": [],
   "source": [
    "from excitingtools.exciting_obj_parsers.ks_band_structure import parse_band_structure\n",
    "\n",
    "bandstructure_LDA_xml = os.path.join(os.getcwd(), 'run_tutorial_exact_exchange_calculations/LDA/bandstructure.xml')\n",
    "bandstructure_EXX_xml = os.path.join(os.getcwd(), 'run_tutorial_exact_exchange_calculations/EXX/bandstructure.xml')\n",
    "\n",
    "band_data_LDA = parse_band_structure(bandstructure_LDA_xml)\n",
    "band_data_EXX = parse_band_structure(bandstructure_EXX_xml)\n",
    "\n",
    "band_data_LDA.e_fermi = band_data_EXX.e_fermi = 0.0\n",
    "band_data_LDA.i_vbm =  band_data_LDA.get_band_edges()[0]\n",
    "band_data_EXX.i_vbm =  band_data_EXX.get_band_edges()[0]\n",
    "\n",
    "vertices, labels = band_data_LDA.band_path()"
   ]
  },
  {
   "cell_type": "code",
   "execution_count": null,
   "metadata": {
    "pycharm": {
     "name": "#%%\n"
    }
   },
   "outputs": [],
   "source": [
    "from scipy.constants import physical_constants\n",
    "\n",
    "ha_to_ev = physical_constants[\"hartree-electron volt relationship\"][0]\n",
    "\n",
    "vbm_LDA = band_data_LDA.get_valence_band_maximum()\n",
    "vbm_EXX = band_data_EXX.get_valence_band_maximum()\n",
    "\n",
    "band_data_LDA.bands = (band_data_LDA.bands - vbm_LDA) * ha_to_ev\n",
    "band_data_EXX.bands = (band_data_EXX.bands - vbm_EXX) * ha_to_ev"
   ]
  },
  {
   "cell_type": "code",
   "execution_count": null,
   "metadata": {
    "pycharm": {
     "name": "#%%\n"
    }
   },
   "outputs": [],
   "source": [
    "import matplotlib.pyplot as plt\n",
    "from matplotlib.lines import Line2D\n",
    "\n",
    "plt.figure(figsize=(8,5))\n",
    "plt.ylabel(\"Energy - $\\mathregular{E_{VBM}}$  [eV]\", fontsize=16)\n",
    "plt.ylim([-25, 25])\n",
    "plt.xlim([vertices[0], vertices[-1]])\n",
    "\n",
    "plt.xticks(ticks=vertices, labels=labels, fontsize=16)\n",
    "plt.yticks(fontsize=14)\n",
    "plt.rcParams[\"axes.linewidth\"] = 2\n",
    "\n",
    "plt.axhline(y=band_data_LDA.e_fermi, color=\"black\", linestyle='--', linewidth=1.2)\n",
    "\n",
    "for i in range(len(band_data_LDA.vertices)):\n",
    "    plt.axvline(x=vertices[i], color=\"black\", linewidth=1)\n",
    "\n",
    "plt.text(3.1, -0.6, \"$\\mathregular{E_{VBM}}$\", fontsize=16)\n",
    "\n",
    "plt.plot(band_data_LDA.flattened_k_points, band_data_LDA.bands, color=\"blue\")\n",
    "plt.plot(band_data_EXX.flattened_k_points, band_data_EXX.bands, color=\"red\")\n",
    "\n",
    "LDA_label = Line2D([0], [0], label='LDA', color='blue')\n",
    "EXX_label = Line2D([0], [0], label='EXX', color='red')\n",
    "plt.legend(handles=[LDA_label,EXX_label], loc='lower right')\n",
    "\n",
    "plt.show()"
   ]
  },
  {
   "cell_type": "markdown",
   "metadata": {
    "pycharm": {
     "name": "#%% md\n"
    }
   },
   "source": [
    "<a id='5'></a>\n",
    "<hr style=\"border:1px solid #DDD\"> </hr>\n",
    "\n",
    "### <span style=\"color:#15317E\">5. Excercise</span>\n",
    "\n",
    "Try to modify some of the parameters in the <code><span style=\"color:green\">groundstate</span></code> element of the **EXX** input file and investigate the effect on the band structure and on the computational time."
   ]
  },
  {
   "cell_type": "markdown",
   "metadata": {
    "pycharm": {
     "name": "#%% md\n"
    }
   },
   "source": [
    "<a id='6'></a>\n",
    "<hr style=\"border:1px solid #DDD\"> </hr>\n",
    "\n",
    "### <span style=\"color:#15317E\">6. Literature</span>\n",
    "\n",
    "- S. Sharma, J. K. Dewhurst, and C. Ambrosch-Draxl, Phys. Rev. Lett. **95**, 136402 (2005); S. Sharma, J. K. Dewhurst, C. Ambrosch-Draxl, S. Kurth, N. Helbig, S. Pittalis, S. Shallcross, L. Nordström, and E. K. U. Gross, Phys. Rev. Lett. **98**, 196405 (2007)\n",
    "\n",
    "<hr style=\"border:2px solid #DDD\"> </hr>"
   ]
  }
 ],
 "metadata": {
  "kernelspec": {
   "display_name": "excitingjupyter",
   "language": "python",
   "name": "excitingjupyter"
  },
  "language_info": {
   "codemirror_mode": {
    "name": "ipython",
    "version": 3
   },
   "file_extension": ".py",
   "mimetype": "text/x-python",
   "name": "python",
   "nbconvert_exporter": "python",
   "pygments_lexer": "ipython3",
   "version": "3.9.4"
  }
 },
 "nbformat": 4,
 "nbformat_minor": 1
}